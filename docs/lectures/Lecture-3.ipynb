{
 "cells": [
  {
   "cell_type": "markdown",
   "id": "93e06f98-9a04-48b1-ad26-3ec913322b7a",
   "metadata": {
    "editable": true,
    "slideshow": {
     "slide_type": ""
    },
    "tags": []
   },
   "source": [
    "# Cartographic Story Telling and Critical Theory\n",
    "\n",
    "**Learning goals:**\n",
    "\n",
    "- Understand the art of storytelling with geospatial data.\n",
    "- Grasp the principles of critical cartography.\n",
    "\n"
   ]
  },
  {
   "cell_type": "markdown",
   "id": "8b435458-bb2c-4bc7-aa12-17056bbcd664",
   "metadata": {
    "editable": true,
    "slideshow": {
     "slide_type": ""
    },
    "tags": []
   },
   "source": [
    "This is a guest lecture by [Franz Benjamin Mocnik](https://www.mocnik-science.net/). Unfortunately, the Video and slides will not be published here. However, here is a summary of the lesson.\n",
    "\n",
    "\n",
    "## Summary\n",
    "\n",
    "## Introduction\n",
    "The lecture focused on the concept of storytelling using maps and visual aids. Through many examples and personal experiences, we set the context for the importance of storytelling in the scientific and geographical domains. The main objective was to explore how maps, as opposed to raw data or texts, can effectively convey narratives.\n",
    "\n",
    "## Key Concepts\n",
    "### Motivation\n",
    "- **Emotion in Data**: The lecturer emphasized that raw data, such as numbers, do not evoke emotions. Visual representations, particularly maps, can significantly enhance emotional engagement. For instance, a sequence of coordinates does not resonate until visualized as an image or a map.\n",
    "- **Maps vs. Texts**: While texts are linear and typically read in a sequence, maps offer a multidimensional approach, allowing viewers to explore spatial relationships and visual cues. This fundamental difference sets maps apart in their storytelling capabilities.\n",
    "\n",
    "### Storytelling with Maps\n",
    "- **Historical Maps**: Historical examples included the medieval Mappa Mundi, which combined geography with religious narratives, and a map illustrating Napoleon’s Russian campaign, which depicted the dwindling numbers of his troops in a visually impactful way.\n",
    "- **Modern Examples**: The lecture also covered contemporary examples, such as maps showing the spread of COVID-19 in China. These maps not only displayed the number of infections and deaths but also illustrated trends over time, offering a comprehensive narrative of the pandemic.\n",
    "\n",
    "### The Process of Creating Maps\n",
    "- **Steps Involved**: Creating a map involves several steps:\n",
    "  - **Finding and Refining Data Sets**: Identify and refine the data necessary for the story.\n",
    "  - **Exploring Narratives and Visual Ideas**: Develop various ways to visually represent the narrative.\n",
    "  - **Deciding on the Best Approach**: Choose the most effective visual and technical means.\n",
    "  - **Implementing and Iterating**: Implement the map and refine it through iterations.\n",
    "- **Flexibility and Sketch Maps**: Emphasized the importance of flexibility in adapting maps to fit the story. Sketch maps, which are not metrically accurate but convey qualitative spatial relationships, were highlighted as valuable tools in the storytelling process.\n",
    "\n",
    "### Time and Space in Maps\n",
    "- **Time Representation**: Time can be represented in maps through various methods:\n",
    "  - **Discrete Events**: Showing distinct events in sequence.\n",
    "  - **Continuous Processes**: Illustrating ongoing processes.\n",
    "  - **Cyclic vs. Linear Time**: Emphasizing rhythms and cycles, such as daily or weekly patterns.\n",
    "- **Combining Space and Time**: Examples included visualizing flight paths and subway movements, demonstrating how space and time can be integrated to tell a more comprehensive story.\n",
    "\n",
    "### Ethical Considerations\n",
    "- **Descriptive vs. Prescriptive Maps**: Maps can describe existing conditions or prescribe actions. This duality can have significant ethical implications. For instance, maps that delineate borders can enforce political boundaries and influence perceptions and behaviors.\n",
    "- **Caution with Causality**: The lecturer warned about the dangers of implying causality where there is none, citing examples where visual correlations can mislead viewers.\n",
    "- **Performative Power of Maps**: Illustrated by the “map trap” example where a fictitious location on a map eventually became a real place, showing how maps can influence reality.\n",
    "\n",
    "### Enhancing Storytelling with Maps\n",
    "- **Personal Touch**: Making maps personal can evoke emotional responses, making the story more engaging. For example, adding personal experiences or relatable elements to a map can make it more impactful.\n",
    "- **Minimalism**: Emphasized the importance of keeping maps simple and focused. By removing unnecessary details, the map can more effectively communicate the core narrative.\n",
    "- **Context and Clarity**: Providing the right context is crucial for understanding the story a map tells. The example of Connecticut’s traffic deaths highlighted how missing context can lead to misinterpretation.\n",
    "\n",
    "### Practical Session\n",
    "- **Sketching and Prototyping**: Encouraged the use of paper and pencil for sketching ideas before digital implementation. This hands-on approach helps in brainstorming and refining the narrative visually.\n",
    "- **Iterative Process**: Stressed the importance of iterating on the map, revisiting and refining it to improve its storytelling capability. This iterative process involves continuous feedback and adjustments.\n",
    "\n",
    "## Conclusion\n",
    "- **Reflection on Map Usage**: Maps are powerful tools for storytelling, but their use must be thoughtful and ethically sound. The lecturer highlighted the potential of maps to mislead or manipulate if not used responsibly.\n",
    "- **Future Directions**: The lecture concluded with an encouragement to explore new ways to enhance the narrative capabilities of maps. Emphasis was placed on the importance of feedback and iteration in developing effective storytelling maps."
   ]
  }
 ],
 "metadata": {
  "kernelspec": {
   "display_name": "Python 3 (ipykernel)",
   "language": "python",
   "name": "python3"
  },
  "language_info": {
   "codemirror_mode": {
    "name": "ipython",
    "version": 3
   },
   "file_extension": ".py",
   "mimetype": "text/x-python",
   "name": "python",
   "nbconvert_exporter": "python",
   "pygments_lexer": "ipython3",
   "version": "3.11.7"
  }
 },
 "nbformat": 4,
 "nbformat_minor": 5
}
