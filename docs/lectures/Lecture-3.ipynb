{
 "cells": [
  {
   "cell_type": "markdown",
   "id": "93e06f98-9a04-48b1-ad26-3ec913322b7a",
   "metadata": {
    "editable": true,
    "slideshow": {
     "slide_type": ""
    },
    "tags": []
   },
   "source": [
    "# Map making, geovisualization, and user experience \n",
    "\n",
    "This will be a guest lecture by Pyry Kettunen.\n",
    "\n",
    "## Lecture slides\n",
    "\n",
    "To be added.\n",
    "\n",
    "## Video recording\n",
    "\n",
    "To be added. \n",
    "\n"
   ]
  },
  {
   "cell_type": "markdown",
   "id": "8b435458-bb2c-4bc7-aa12-17056bbcd664",
   "metadata": {
    "editable": true,
    "slideshow": {
     "slide_type": ""
    },
    "tags": []
   },
   "source": [
    "\n"
   ]
  }
 ],
 "metadata": {
  "kernelspec": {
   "display_name": "Python 3 (ipykernel)",
   "language": "python",
   "name": "python3"
  },
  "language_info": {
   "codemirror_mode": {
    "name": "ipython",
    "version": 3
   },
   "file_extension": ".py",
   "mimetype": "text/x-python",
   "name": "python",
   "nbconvert_exporter": "python",
   "pygments_lexer": "ipython3",
   "version": "3.11.7"
  }
 },
 "nbformat": 4,
 "nbformat_minor": 5
}
