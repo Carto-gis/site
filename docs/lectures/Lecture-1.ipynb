{
 "cells": [
  {
   "cell_type": "markdown",
   "id": "93e06f98-9a04-48b1-ad26-3ec913322b7a",
   "metadata": {
    "editable": true,
    "slideshow": {
     "slide_type": ""
    },
    "tags": []
   },
   "source": [
    "# Lesson 1: Introduction to Cartography"
   ]
  },
  {
   "cell_type": "markdown",
   "id": "27fa8246-c9cf-49ca-a591-3777d89f5653",
   "metadata": {
    "editable": true,
    "slideshow": {
     "slide_type": ""
    },
    "tags": []
   },
   "source": [
    "This lesson introduces the foundational concepts and principles of cartography with a focus on the integration of cartographic theory within modern GIS technologies. In this lesson we will review what we already know about cartography and set the foundation for coming lessons. \n",
    "\n",
    "## Main Topics Covered\n",
    "\n",
    "- Cartographic Visualization in GIS - a review\n",
    "- The History and Evolution of Cartography\n",
    "- Cartography as an Art and Science\n",
    "- Basics of map design: types of maps, map elements, visual variables\n",
    "- Map layout\n",
    "- Map projection\n",
    "\n",
    "## Lecture slides\n",
    "\n",
    "To be added after the lecture.\n",
    "\n",
    "## Video recording\n",
    "\n",
    "To be added after the lecture."
   ]
  },
  {
   "cell_type": "code",
   "execution_count": null,
   "id": "a61d9723-7f7f-43f1-84fb-ba311055f819",
   "metadata": {},
   "outputs": [],
   "source": []
  }
 ],
 "metadata": {
  "kernelspec": {
   "display_name": "Python 3 (ipykernel)",
   "language": "python",
   "name": "python3"
  },
  "language_info": {
   "codemirror_mode": {
    "name": "ipython",
    "version": 3
   },
   "file_extension": ".py",
   "mimetype": "text/x-python",
   "name": "python",
   "nbconvert_exporter": "python",
   "pygments_lexer": "ipython3",
   "version": "3.13.3"
  }
 },
 "nbformat": 4,
 "nbformat_minor": 5
}
