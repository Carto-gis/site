{
 "cells": [
  {
   "cell_type": "markdown",
   "id": "37653921-5015-42a2-a675-03552f153a3e",
   "metadata": {},
   "source": [
    "# Tutorial 3: overview\n",
    "\n",
    "Topics of this week's tutorial:\n",
    "\n",
    "- non-cartographic visualization of Geospatial data.\n",
    "- Visualizing big geospatial data.\n",
    "- Making Cartograms in QGIS\n"
   ]
  },
  {
   "cell_type": "markdown",
   "id": "062d30fe-8ec9-4757-b978-67d92e92e57e",
   "metadata": {},
   "source": [
    "## Video recording\n",
    "\n",
    "Python version:\n",
    "<iframe width=\"560\" height=\"315\" src=\"https://www.youtube.com/embed/BPh81gg8vsk?si=kVKB0dI-Kf27JJJp\" title=\"YouTube video player\" frameborder=\"0\" allow=\"accelerometer; autoplay; clipboard-write; encrypted-media; gyroscope; picture-in-picture; web-share\" referrerpolicy=\"strict-origin-when-cross-origin\" allowfullscreen></iframe>\n",
    "\n",
    "QGIS version:\n",
    "<iframe width=\"560\" height=\"315\" src=\"https://www.youtube.com/embed/5cPnLeSPV9U?si=yWhjlGqb86MFPzOE\" title=\"YouTube video player\" frameborder=\"0\" allow=\"accelerometer; autoplay; clipboard-write; encrypted-media; gyroscope; picture-in-picture; web-share\" referrerpolicy=\"strict-origin-when-cross-origin\" allowfullscreen></iframe>"
   ]
  },
  {
   "metadata": {},
   "cell_type": "code",
   "source": [],
   "id": "b0e8c4bab50d988d",
   "outputs": [],
   "execution_count": null
  }
 ],
 "metadata": {
  "kernelspec": {
   "display_name": "Python 3 (ipykernel)",
   "language": "python",
   "name": "python3"
  },
  "language_info": {
   "codemirror_mode": {
    "name": "ipython",
    "version": 3
   },
   "file_extension": ".py",
   "mimetype": "text/x-python",
   "name": "python",
   "nbconvert_exporter": "python",
   "pygments_lexer": "ipython3",
   "version": "3.11.7"
  }
 },
 "nbformat": 4,
 "nbformat_minor": 5
}
