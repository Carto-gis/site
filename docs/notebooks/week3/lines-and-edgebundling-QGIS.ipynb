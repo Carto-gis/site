{
 "cells": [
  {
   "cell_type": "markdown",
   "id": "d16bad94-8358-4bbd-b464-79a2869beedd",
   "metadata": {},
   "source": [
    "# Visualizing OD mobilities & edgebundling in QGIS"
   ]
  },
  {
   "cell_type": "markdown",
   "id": "60dac975-b31d-4491-aae6-c97035485ab0",
   "metadata": {},
   "source": [
    "## Intro"
   ]
  },
  {
   "cell_type": "markdown",
   "id": "e2e59337-6c4b-44aa-8fc7-dc7c1eb971d8",
   "metadata": {},
   "source": [
    "Data showing spatial relations between places is common – in fact, we visualized flight connections between airports during week 2 and plotted mobilities between Flickr users' homecountries and protected areas as chord diagrams in non-carto-vis-Python.ipynb. Origin and destination (OD) are the minimum locations is the minimum information needed to draw a trajectory.\n",
    "\n",
    "Working with big (or even small) OD line data can overcrowd a static map very quickly. For example, a naïve \"hairball\" visualization ([Poorthuis, 2018](https://doi.org/10.22224/gistbok/2018.3.5)) of this practical's data without any styling looks like this:"
   ]
  },
  {
   "cell_type": "markdown",
   "id": "9aa53284-a4a3-45b9-93d2-8c08983ac293",
   "metadata": {},
   "source": [
    "![Hairball visualization of lines](Figures/Practical_3_edgebundling_hairball.png)"
   ]
  },
  {
   "cell_type": "markdown",
   "id": "43e45f8c-2de2-4c30-a422-92855e72656a",
   "metadata": {},
   "source": [
    "Our example data only contains 472 mobilities, heading to one of three regions in Germany. A map of even this simple data above tells us very little of those mobility dynamics. Which of the three is the most popular? Where do the mobilities originate from?\n",
    "\n",
    "We've seen in previous tutorials how finetuning the symbology by reducing linewidth, adding transparency and choosing a more pleasant color scheme improves the readability of such mobility maps. However, we can do more.\n",
    "\n",
    "OD data capture simple, abstracted mobilities (e.g., [city bike trips between stations](https://hri.fi/data/en_GB/dataset/helsingin-ja-espoon-kaupunkipyorilla-ajatut-matkat)). In these cases, it's beneficial to show not just which places are connected but the magnitude of mobilities.\n",
    "\n",
    "In this tutorial, you will learn:\n",
    "\n",
    "1. Two approaches for visualizing OD data in QGIS.\n",
    "2. The principles of edgebundling and when it may the tool to go with.\n",
    "\n",
    "The tutorial closes by pointing to resources and tools for getting deeper into the subjects."
   ]
  },
  {
   "cell_type": "markdown",
   "id": "cf468ce5-8b91-4ff8-a308-7831d0fa0e30",
   "metadata": {},
   "source": [
    "## Prerequisites"
   ]
  },
  {
   "cell_type": "markdown",
   "id": "985557c5-28c3-4f59-a18a-269a839304d1",
   "metadata": {},
   "source": [
    "### Plugin\n",
    "- [Edgebundling plugin](https://github.com/ait-energy/qgis-edge-bundling/tree/master) by Anita Graser. \n",
    "This plugin **is not available** in the public plugin repository. Instead, follow the instructions below to install it:"
   ]
  },
  {
   "cell_type": "markdown",
   "id": "fce5b6a3-d9c8-4b2c-9969-845f9e2410b8",
   "metadata": {},
   "source": [
    "<div style=\"background-color: #66f2ff; padding: 10px; border-left: 5px solid #00a4b3; margin-bottom: 10px;\">\n",
    "    \n",
    "1. Download *processing_edgebundling.zip* from [this link](QGIS-files/processing_edgebundling.zip) or from the path *QGIS-files/processing_edgebundling.zip*\n",
    "    \n",
    "2. Open the plugin installation window (*Plugins > Manage and Install plugins*)\n",
    "    \n",
    "3. Go to *Install from zip*, select the zip file you just downloaded and install the plugin. \n",
    "    \n",
    "4. The function *Force-directed edge bundling* has been added to the *Processing Toolbox*.\n",
    "</div>"
   ]
  },
  {
   "cell_type": "markdown",
   "id": "92a6ac8e-2d65-456d-a16c-e3c7c95d981c",
   "metadata": {},
   "source": [
    "### Data\n",
    "We'll work with data that describes [student mobilities in the European Union's Erasmus](http://data.europa.eu/88u/dataset/erasmus-mobility-raw-data) exhange program at the level of the statistical NUTS2 regions. The full dataset has been processed by Tuomas Väisänen and colleagues as part of [Mobi-Twin](https://www.helsinki.fi/en/researchgroups/digital-geography-lab/projects/mobi-twin) project at the [Digital Geography Lab](https://www.helsinki.fi/en/researchgroups/digital-geography-lab/), University of Helsinki. Find the [full dataset here](https://zenodo.org/records/14332354) and a [data description paper here](https://doi.org/10.1038/s41597-025-04789-0).\n",
    "\n",
    "- [Download an excerpt we'll be using (erasmus-mobility-data.gpkg) here](data/erasmus-mobility-data.gpkg)"
   ]
  },
  {
   "cell_type": "markdown",
   "id": "4d438c03-041b-45f0-b0d4-1278bbc4023b",
   "metadata": {},
   "source": [
    "### QGIS files\n",
    "As always, there are several style files and a QGIS processing model file that runs the whole processing chain.\n",
    "\n",
    "- You can download all the files from [this link](QGIS-files/QGIS-files-week3.zip) or download them individually in the folder QGIS-files."
   ]
  },
  {
   "cell_type": "markdown",
   "id": "78e49b43-2bc1-454d-b366-ab468570ca58",
   "metadata": {},
   "source": [
    "## Graduated line map"
   ]
  },
  {
   "cell_type": "markdown",
   "id": "dcfa66b0-8118-4819-bbd3-239082b83842",
   "metadata": {},
   "source": [
    "One way to represent quantity is, naturally, to make certain connections more prominent. With a graduated line map, we can use width and color for that purpose."
   ]
  },
  {
   "cell_type": "markdown",
   "id": "932b79c7-11c8-45ff-8936-a5444f3ef691",
   "metadata": {},
   "source": [
    "Add data from *erasmus-mobility-data* to the project. Examine line layer on the map view and its attribute table.\n",
    "\n",
    "The geopackage contains two layers:\n",
    "- *2018_student_mobility_NUTS2_germany_top3*: Erasmus student exhanges that have their destination in German NUTS2 regions. The data has been filtered to only include mobilities towards the three most visited [NUTS2 areas in Germany](https://en.wikipedia.org/wiki/NUTS_statistical_regions_of_Germany) – Berlin (DE30), Köln (DEA2) and Oberbayern (DE21).\n",
    "- *NUTS2 Centroids*: Centroids of the three layers. Used for labelling."
   ]
  },
  {
   "cell_type": "markdown",
   "id": "dbc01b09-c274-41ad-9943-002216860f1a",
   "metadata": {},
   "source": [
    "Let's calculate how many connections are between the each origin and destination region, similarly to how we did it in week 2's global map:"
   ]
  },
  {
   "cell_type": "markdown",
   "id": "5d2abf75-64a8-4a31-9e53-b6753b62728e",
   "metadata": {},
   "source": [
    "<div style=\"background-color: #66f2ff; padding: 10px; border-left: 5px solid #00a4b3; margin-bottom: 10px;\">\n",
    "   \n",
    "1. Run the processing tool *Aggregate*.\n",
    "2. Parameters:\n",
    "    - Input layer: *2018_student_mobility_NUTS2_germany_top3*\n",
    "    - Group by expression: *OD_ID*\n",
    "    - Aggregates:\n",
    "        1. Keep only *OD_ID* and *fid*, remove others.\n",
    "        2. Aggregate function\n",
    "            - OD_ID: *first_value*\n",
    "            - fid: *count*\n",
    "        3. Name:\n",
    "            - fid: *mobilities*\n",
    "    \n",
    "</div>"
   ]
  },
  {
   "cell_type": "markdown",
   "id": "da8dd133-6ea9-48db-bcb5-8fa6e71d4f79",
   "metadata": {},
   "source": [
    "### Styling\n",
    "QGIS offers two ways to emphasize a *graduated* style: size or color. This will usually be enough, but what if you'd want to use both variables at the same time? It's very much doable, but we'll need a bit more fidgeting."
   ]
  },
  {
   "cell_type": "markdown",
   "id": "e606a4cf-c346-4f65-a405-24613c4e53aa",
   "metadata": {},
   "source": [
    "<div style=\"background-color: #66f2ff; padding: 10px; border-left: 5px solid #00a4b3; margin-bottom: 10px;\">\n",
    "   \n",
    "1. Apply a graduated style to the *Aggregated* layer.\n",
    "2. Choose color as the styling method. Select what you think is an appropiate number of classes, classification method and color scale. (Example: *4*, *Natural breaks* and *Reds*.\n",
    "3. To modify linewidth, we'll use data-defined overrides. \n",
    "    1. Open up *Symbol > Configure symbol > Width > DD override symbol > Edit*.\n",
    "    2. Paste the expression `scale_linear( \"mobilities\", minimum(\"mobilities\"), maximum(\"mobilities\"), 0.2,2.5)`\n",
    "    \n",
    "        a. Read this expression as: use values from the field *mobilities* and scale them to a new value between 0.2 and 2.5.\n",
    "    3. Modify the transparency and other style definitions as you wish.\n",
    "    \n",
    "    \n",
    "</div>"
   ]
  },
  {
   "cell_type": "markdown",
   "id": "f7a6a666-b051-420b-af78-a67a97074973",
   "metadata": {},
   "source": [
    "This data-defined method differs from rule-based or graduated approaches in that we're not classifying the data, but rather smoothly scaling the linewidth from the minimum value (0.2) to the maximum (2.5 millimeters). However, doing styling like this complicates some other aspects: for example, automatically creating a legend that would accurately show "
   ]
  },
  {
   "cell_type": "markdown",
   "id": "2719ee07-0539-4e12-8b89-08170c129ac4",
   "metadata": {},
   "source": [
    "<div style=\"background-color: #39f98f; padding: 10px; border-left: 5px solid #059445; margin-bottom: 10px;\">\n",
    "This example uses the following styles:\n",
    "    \n",
    "- *graduated_line_style.qml*\n",
    "- *nuts2_centroids_label_style.qml*\n",
    "    \n",
    "</div>"
   ]
  },
  {
   "cell_type": "markdown",
   "id": "74f44db2-59cd-4c8b-a648-dbf0a18a7e7b",
   "metadata": {},
   "source": [
    "![Graduated line map](Figures/graduated_line_map.jpeg)"
   ]
  },
  {
   "cell_type": "markdown",
   "id": "dfd60ee7-d21f-4002-b179-c0a944435fe9",
   "metadata": {},
   "source": [
    "#### QGIS tip\n",
    "\n",
    "Wonder where that background world map came from?\n",
    "\n",
    "Simply type \"world\" into the field that shows the current coordinate locations and press Enter. This will add a simple world map of country boundaries, most likely based on [Natural Earth](https://www.naturalearthdata.com/)."
   ]
  },
  {
   "cell_type": "markdown",
   "id": "d88c652c-19f4-4d33-96f4-5baff315637e",
   "metadata": {},
   "source": [
    "## Edgebundling\n",
    "Instead of aggregating by attribute information, there are methods to aggregate, or cluster, by location. Edgebundling is a clustering technique for line features (see [Graser, 2019](https://doi.org/10.1177/1473871617738122)). It can be used to lessen visual clutter in linemaps.\n",
    "\n",
    "We'll be using a plugin that implements force-directed edgebundling for QGIS. This is, to our knowledge, the only edgebundling implementation that has been published for QGIS, although it is by no means the only edgebundling technique available (see examples of EB algorithms in [Wallinger 2021](https://arxiv.org/pdf/2108.05467))."
   ]
  },
  {
   "cell_type": "markdown",
   "id": "668d62ca-6b84-441e-96b2-e0918161175d",
   "metadata": {},
   "source": [
    "<div style=\"background-color: #66f2ff; padding: 10px; border-left: 5px solid #00a4b3; margin-bottom: 10px;\">\n",
    "   \n",
    "1. Run *Force-directed edge bundling* from the processing toolbox.\n",
    "2. Parameters:\n",
    "    - Input layer: *2018_student_mobility_NUTS2_germany_top3*\n",
    "    - Use cluster field: Leave this deselected\n",
    "    - Initial step size: 1000\n",
    "    - You may leave the other parameters as-is.\n",
    "    \n",
    "</div>"
   ]
  },
  {
   "cell_type": "markdown",
   "id": "aeef1c0c-cb2e-4f88-9250-ac31d4f0e5c1",
   "metadata": {},
   "source": [
    "### Edgebundling and parameters\n",
    "Finding description of these parameters was a bit tough, but these are their effects to our understanding based on [Graser et al. (2019)](https://doi.org/10.1177/1473871617738122):\n",
    "\n",
    "- `Initial step size` \\[map units\\]: Larger values will cause more distortion, possibly also artifacts. It uses map units (meters in the data's CRS).\n",
    "- `Compability` \\[0–1\\]: Defines how many edges are involved in the bundling. Lower values will take more processing time but have stronger bundling outcomes.\n",
    "- `Cycles` & `iterations` \\[>0\\]: higher values will result in better outcomes at the expense of processing time.\n",
    "- `Cluster field`\\[Yes / No\\]: A feature in this implementation of edgebundling – instead of bundling all lines, it can bundle a set number of clusters. May reduce computation time at the expense of accuracy.\n",
    "\n",
    "Edgebundling is a fickle craft. Good parameter values will be dependent on the dataset and its scale – finding a good mix will likely be a process of trial and error.\n",
    "\n",
    "Of these, `initial step size` will be especially influential for the outlook of the map. \n",
    "\n",
    "Below is our data processed with initial step sizes of 1000, 2000, 5000 and 10,000 while keeping other parameters constant. Notice how the larger values will cause larger distortions and larger bundles whereas the smaller values will produce a more conservative outcome."
   ]
  },
  {
   "cell_type": "markdown",
   "id": "e8479b60-91b0-402f-bf4b-536ee3b6444a",
   "metadata": {},
   "source": [
    "<div style=\"background-color: #39f98f; padding: 10px; border-left: 5px solid #059445; margin-bottom: 10px;\">\n",
    "\n",
    "These examples use the style: **bundled_edges_thin.qml**\n",
    "    \n",
    "</div>"
   ]
  },
  {
   "cell_type": "markdown",
   "id": "d288f294-7e31-4d5b-b4b0-0e313939cacc",
   "metadata": {},
   "source": [
    "![Edgebundling starting step comparison](Figures/Practical_3_edgebundling_starting_step_comparison.png)"
   ]
  },
  {
   "cell_type": "markdown",
   "id": "a7746758-9043-4d27-b479-5176aa72116a",
   "metadata": {},
   "source": [
    "### Styling\n",
    "Bundling the lines only helps somewhat to distinguish the routes (and even that's up for debate!). We'll still need smart styling of the layer to make our map more useful.\n",
    "\n",
    "Some of the ideas that went into this style:"
   ]
  },
  {
   "cell_type": "markdown",
   "id": "7bc90098-308d-400c-b9cf-3a4ef4dd9f64",
   "metadata": {},
   "source": [
    "<div style=\"background-color: #ffa64d; padding: 10px; border-left: 5px solid #cc6600; margin-bottom: 10px;\">\n",
    "\n",
    "- Categorized layer style with *DESTINATION* as the value field. A qualitative color scheme should be used here. For example:\n",
    "    - DE21: `#ffa719` (orange)\n",
    "    - DE30: `#ff23e9` (violet)\n",
    "    - DEA2: `#63bbff` (blue)\n",
    "- High transparency (opacity 20 %) to make the clusters of lines stand out.\n",
    "- Exaggerated linewidth (0.5 mm)\n",
    "- Remember to consider layouting and map elements!\n",
    "    - For example, remember to fit the printout page to the data. In this case, it's rather square.\n",
    "    \n",
    "</div>"
   ]
  },
  {
   "cell_type": "markdown",
   "id": "dca92c55-926d-4ac2-89a8-e8de156f811b",
   "metadata": {},
   "source": [
    "![Edgebundling final](Figures/edgebundling_final_map.jpeg)"
   ]
  },
  {
   "cell_type": "markdown",
   "id": "3bac0ae3-7f8f-4cb3-8d89-69a0e75c2482",
   "metadata": {},
   "source": [
    "Compare the edgebundled linemap to the graduated one. What do they highlight well? What are their weaknesses? When would, for example, a chord diagram be better suited to describe mobilities between places?"
   ]
  },
  {
   "cell_type": "markdown",
   "id": "12780961-5735-4513-a137-6f38ec975be0",
   "metadata": {},
   "source": [
    "### Where to dig deeper into edgebundling?\n",
    "Edgebundling can be used create some really striking flow maps – with the right data and a lot of parameter fidgeting. Force-directed edgebundling has some downsides, as well. For one, it doesn't scale particularly well to large datasets. This is why the example data we used is a small extract of the whole with only some hundreds of lines to three destinations – processing anything bigger might take from minutes up to days. Also note that this example data only has movements to Germany: usually, OD data has mobilities to and from! Finally, having pre-made implementations of cutting-edge algorithms in QGIS is not likely. For that, the programmatic way is usually wise. \n",
    "\n",
    "Below are a few examples of tools for programming languages. The repositories linked have various cool examples that use other algorithms, as well!\n",
    "\n",
    "- Python:\n",
    "    - [Edge-bundling tool](https://doi.org/10.5281/zenodo.14532547) by Väisänen et al., the same group that created the dataset we worked on\n",
    "        - Check out this [very cool EB visualization by them](https://vis.social/@waeiski/114352700408484081).\n",
    "    - [Edge-path bundling](https://github.com/xpeterk1/edge-path-bundling).\n",
    "        - A implementation of a paper by [Wallinger et al. 2021](https://arxiv.org/pdf/2108.05467)\n",
    "        - Check out [this demo](https://mwallinger-tu.github.io/edge-path-bundling/)\n",
    "- Tools for R:\n",
    "    - [Edgebundle](https://github.com/schochastics/edgebundle)\n",
    "    - [Implementation in GGraph](https://r-graph-gallery.com/hierarchical-edge-bundling.html)"
   ]
  },
  {
   "cell_type": "markdown",
   "id": "7c92cb75-a3c9-4247-82b8-636ec9f24054",
   "metadata": {},
   "source": [
    "## Replicating the processing flow of this notebook\n",
    "To replicate this processing flow, run the processing model *lines-edgebundling-model.model3*. Open the model in QGIS from the leftmost button below *Processing toolbox* -> *Open existing model*. \n",
    "\n",
    "You will need to add the example data and have the style files shared in the folder QGIS-files at the ready to run the model. Please also note that this model includes some hard-coded field-names (as do most of these models!). They are meant for replicating this notebook, and repurposing them for general use might require some modifications."
   ]
  },
  {
   "cell_type": "markdown",
   "id": "3721e44d-863a-4cb8-acc0-453ece73026c",
   "metadata": {},
   "source": [
    "![Line map model](Figures/lines-and-bundling-model.png)"
   ]
  }
 ],
 "metadata": {
  "kernelspec": {
   "display_name": "Python 3 (ipykernel)",
   "language": "python",
   "name": "python3"
  },
  "language_info": {
   "codemirror_mode": {
    "name": "ipython",
    "version": 3
   },
   "file_extension": ".py",
   "mimetype": "text/x-python",
   "name": "python",
   "nbconvert_exporter": "python",
   "pygments_lexer": "ipython3",
   "version": "3.10.16"
  }
 },
 "nbformat": 4,
 "nbformat_minor": 5
}
