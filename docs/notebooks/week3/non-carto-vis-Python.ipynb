{
 "cells": [
  {
   "cell_type": "markdown",
   "id": "d712ab1b-dced-4727-b5cb-bbe7eab5d5fd",
   "metadata": {},
   "source": [
    "# Non-Cartographic Representation of Geospatial Data\n",
    "\n",
    "Geospatial data doesn't always need to be represented on a map. Non-cartographic representations can offer unique insights and allow us to visualize relationships, connections, and patterns that might not be immediately apparent on a traditional map. Here we explore a couple of examples for visualizing geospatial data without maps.\n",
    "\n",
    "---\n",
    "\n",
    "**Why Use Non-Cartographic Representations?**\n",
    "\n",
    "In some cases non-cartographic visualizations can simplify complex spatial relationships and highlight specific aspects of the data, such as the intensity of interactions between locations or the flow of goods, information, or people. They help in:\n",
    "\n",
    "- **Simplifying Complexity**: By abstracting away geographical details, we can focus on the data's relational or structural aspects.\n",
    "- **Emphasizing Connections**: Visualizing the strength and direction of relationships between entities can reveal patterns not visible on a standard map.\n",
    "- **Facilitating Comparisons**: These visualizations can sometimes make it easier to compare spatial relationships across different regions or categories.\n",
    "\n",
    "---\n"
   ]
  },
  {
   "cell_type": "markdown",
   "id": "bdc0507f-693f-42a8-9d7d-8fadf3ad3cad",
   "metadata": {},
   "source": [
    "## Network Graphs for Visualizing Relationships and Adjacency\n",
    "\n",
    "Network graphs are usefool tools for visualizing relationships and adjacency between various entities. They consist of nodes (or vertices) representing entities and edges (or links) denoting relationships or connections between these entities. This visualization technique is particularly useful for illustrating complex networks such as social connections, infrastructure systems, ecological networks, or various kind of transactions.\n",
    "\n",
    "- **Advantages**: Network graphs are excellent for identifying clusters, central nodes, and the overall structure of the network. They can reveal the most influential entities within a network and how they interact with others.\n",
    "- **Considerations**: With a large number of nodes and edges, network graphs can become overwhelming and difficult to interpret. Strategies such as node aggregation, edge bundling, or interactive filtering may be necessary to maintain clarity.\n",
    "\n",
    "\n",
    "**Example: Visualization neighboring US states**\n",
    "Here we work with a simplified data of US states and their neighbors. We want to create a graph to show their neighboring relationships. For this visualization, we use two prominent Python libraries: Matplotlib and NetworkX.\n",
    "\n",
    "[**Matplotlib**](https://matplotlib.org/stable/contents.html) is a comprehensive library for creating static, interactive, and animated visualizations in Python. It provides an extensive array of functions and tools for creating a wide variety of plots and charts, from histograms and scatter plots to complex contour plots. \n",
    "\n",
    "\n",
    "[**NetworkX**](https://networkx.org/documentation/stable/) is a Python package for the creation, manipulation, and study of the structure, dynamics, and functions of complex networks. It provides tools for working with graphs and networks, both simple and complex, with extensive functionality for adding nodes, edges, and applying various algorithms to analyze and visualize network data. We used this in the [AutoGIS course](https://autogis-site.readthedocs.io/en/latest/lessons/lesson-6/network-analysis.html) to perform a simple network analysis on OSM data and get the shortest route between a pair of points.\n",
    "\n",
    "Both libraries are open-source and actively maintained, making them relevant in the data science and analytics communities for data visualization and network analysis tasks. They can be used in a wide range of applications, from simple data visualizations to complex analyses of large-scale networks. "
   ]
  },
  {
   "cell_type": "code",
   "execution_count": null,
   "id": "dcde840e-f747-48e8-b8af-a07518c38f50",
   "metadata": {},
   "outputs": [],
   "source": [
    "import matplotlib.pyplot as plt\n",
    "import networkx as nx\n",
    "\n",
    "# a simplified subset of US states and their neighbors\n",
    "us_states_neighbors = {\n",
    "    'California': ['Oregon', 'Nevada', 'Arizona'],\n",
    "    'Oregon': ['California', 'Nevada', 'Washington'],\n",
    "    'Nevada': ['Oregon', 'California', 'Arizona', 'Utah'],\n",
    "    'Arizona': ['California', 'Nevada', 'Utah'],\n",
    "    'Utah': ['Nevada', 'Arizona', 'Colorado'],\n",
    "    'Colorado': ['Utah'],\n",
    "    'Washington': ['Oregon']\n",
    "}\n",
    "\n",
    "# Create the graph\n",
    "G = nx.Graph()\n",
    "\n",
    "# Add nodes and edges based on the neighboring relationships\n",
    "for state, neighbors in us_states_neighbors.items():\n",
    "    G.add_node(state)\n",
    "    for neighbor in neighbors:\n",
    "        G.add_edge(state, neighbor)\n",
    "\n",
    "# Generate positions for each node using a layout\n",
    "pos = nx.spring_layout(G, seed=42)  # Fixed seed for reproducibility\n",
    "\n",
    "# Customize the plot\n",
    "plt.figure(figsize=(12, 8), facecolor='aliceblue')  # Set background color\n",
    "plt.title('Neighboring Relationships Among Selected US States', fontsize=15, color='navy')\n",
    "\n",
    "# Draw nodes with custom style\n",
    "nx.draw_networkx_nodes(G, pos, node_size=5000, node_color='lightcoral', edgecolors='darkred', linewidths=2, alpha=0.9)\n",
    "\n",
    "# Draw edges with custom style\n",
    "nx.draw_networkx_edges(G, pos, width=2, edge_color='gray', alpha=0.6)\n",
    "\n",
    "# Draw labels with custom font style\n",
    "nx.draw_networkx_labels(G, pos, font_size=9, font_weight='bold', font_color='darkslategray')\n",
    "\n",
    "# Remove axes for a cleaner look\n",
    "plt.axis('off')\n",
    "plt.show()\n"
   ]
  },
  {
   "cell_type": "markdown",
   "id": "a5bbf575-37c6-49e2-aa24-5b022bc74384",
   "metadata": {},
   "source": [
    "## A Chord Diagram\n",
    "\n",
    "Chord diagrams offer a powerful way to visualize complex relationships between different entities. By arranging entities along a circle with connections (or \"chords\") between them, we can quickly grasp the volume and direction of interactions.\n",
    "\n",
    "- **Advantages**: Provides a clear overview of relationships and their strengths; visually appealing and engaging.\n",
    "- **Considerations**: Can become cluttered with too many entities or connections; best used when focusing on key relationships.\n",
    "\n",
    "**Example: Visualization of Flickr nature visits by continent**\n",
    "Here we use the Chord Diagram to visualize the Nature visits by continent based on Flickr data. In addition to Matplotlib and Pandas library, we use a specific library to generate this kind of diagram: [**mpl_chord_diagram**](https://codeberg.org/tfardet/mpl_chord_diagram). This Python package extends Matplotlib's capabilities to include chord diagrams, a specific type of visualization that shows inter-relationships between entities in a circular layout. "
   ]
  },
  {
   "cell_type": "code",
   "execution_count": null,
   "id": "b9da56df-3d08-43cd-ac2f-f4d931c7c798",
   "metadata": {},
   "outputs": [],
   "source": [
    "!pip install mpl_chord_diagram"
   ]
  },
  {
   "cell_type": "code",
   "execution_count": null,
   "id": "18420c62-bd60-4b2b-9d5a-11b1d8876d56",
   "metadata": {},
   "outputs": [],
   "source": [
    "import matplotlib.pyplot as plt\n",
    "from mpl_chord_diagram import chord_diagram\n",
    "import pandas as pd\n",
    "# requirement: mpl_chord_diagram, see https://codeberg.org/tfardet/mpl_chord_diagram"
   ]
  },
  {
   "cell_type": "code",
   "execution_count": null,
   "id": "89926bdf-3226-4968-996b-2ef1ee6ce017",
   "metadata": {},
   "outputs": [],
   "source": [
    "od_flows = pd.read_csv(\"data/flickr_nature_visits_continent_od.csv\", index_col=0)"
   ]
  },
  {
   "cell_type": "code",
   "execution_count": null,
   "id": "39547608-a438-40c6-8142-15a172d6bc0d",
   "metadata": {},
   "outputs": [],
   "source": [
    "od_flows"
   ]
  },
  {
   "cell_type": "code",
   "execution_count": null,
   "id": "bd03bc74-a178-44a6-b58c-48f9f4bd7b4b",
   "metadata": {},
   "outputs": [],
   "source": [
    "fig, ax = plt.subplots()\n",
    "fig.set_size_inches(8,8)\n",
    "    \n",
    "plt.rcParams['axes.titlepad'] = 40\n",
    "#ax.set_title(\"{}\".format(year))\n",
    "\n",
    "names=od_flows.columns\n",
    "\n",
    "# see full list of styling parameters https://codeberg.org/tfardet/mpl_chord_diagram\n",
    "# or call ?chord_diagram\n",
    "chord_diagram(od_flows.to_numpy(), names=names, gap=0.025, width=0.075, pad=2.25,\n",
    "use_gradient=True, fontsize=14, rotate_names=True, ax=ax, directed=False)\n",
    "plt.tight_layout()"
   ]
  },
  {
   "cell_type": "markdown",
   "id": "0a8d85f2-9de0-469f-a1b4-b452b951b96c",
   "metadata": {},
   "source": [
    "# Combining Maps with Other Visualization Methods\n",
    "\n",
    "In cartography, the effective combination of cartographic and non-cartographic visualizations can sometimes enhance the communication of complex data. The visualizations in [this article](https://doi.org/10.1038/nature14032) exemplify this approach by integrating geographical information with statistical data using color coding.\n",
    "\n",
    "![Global map of current and potential protected areas](Figures/combo-vis.png)\n",
    "*Image source: [Pouzols et al.](https://doi.org/10.1038/nature14032)*\n",
    "\n",
    "The map uses a combination of a global map and a bar chart to illustrate a \"global priority map for the expansion of the protected area system\". By employing a spectrum of colors, ranging from grey to various shades of red, orange, and blue, it visually differentiates between existing PAs and the levels of expansion required. This color-coding not only serves this map but also helps link data in various visualizations.\n",
    "\n",
    "Such a technique leverages the strengths of both cartographic mapping and non-cartographic visualization in an intuitive way. This dual approach allows for an immediate visual impact and aids in the interpretation of complex datasets, making the information accessible to a broader audience.\n"
   ]
  },
  {
   "cell_type": "code",
   "execution_count": null,
   "id": "01a45247-faaa-4636-b3f0-8c963ccb5c7d",
   "metadata": {},
   "outputs": [],
   "source": []
  }
 ],
 "metadata": {
  "kernelspec": {
   "display_name": "Python 3 (ipykernel)",
   "language": "python",
   "name": "python3"
  },
  "language_info": {
   "codemirror_mode": {
    "name": "ipython",
    "version": 3
   },
   "file_extension": ".py",
   "mimetype": "text/x-python",
   "name": "python",
   "nbconvert_exporter": "python",
   "pygments_lexer": "ipython3",
   "version": "3.13.3"
  }
 },
 "nbformat": 4,
 "nbformat_minor": 5
}
