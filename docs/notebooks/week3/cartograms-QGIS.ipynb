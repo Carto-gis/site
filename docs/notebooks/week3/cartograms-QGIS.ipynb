{
 "cells": [
  {
   "cell_type": "markdown",
   "id": "0018624d-800f-408d-bae9-a1b32f37a7bb",
   "metadata": {},
   "source": [
    "# Cartograms with QGIS\n",
    "\n",
    "Thematic maps are powerful tools to represent the spatial distributions of various phenomena. However, areal units may be misleading in certain cases. Most famously this is the case with choropleth election maps, such as the one below – large rural areas that dominate the map might indicate a landslide win. Yet, it is the populace that votes, and the number of voters per administrative unit varies wildly.\n"
   ]
  },
  {
   "cell_type": "markdown",
   "id": "e92e30d7-f8d8-441f-b586-413c171b33a7",
   "metadata": {},
   "source": [
    "![US election map](Figures/US-election-map-2012.jpg)"
   ]
  },
  {
   "cell_type": "markdown",
   "id": "eb192a86-a088-4edd-a229-b9cb508106cc",
   "metadata": {},
   "source": [
    "*Source: Nolan, J. V. & Congressional Cartography Program. (2012) United States presidential election , results by county, November 6. \\[Washington, D.C.: Congressional Cartography Program\\] \\[Map\\] Retrieved from the Library of Congress, https://www.loc.gov/item/2012587691/*"
   ]
  },
  {
   "cell_type": "markdown",
   "id": "7e68e3ec-2e13-4137-967f-f518baa7f101",
   "metadata": {},
   "source": [
    "If area =/= importance, yet we want to show something spatially, what can be done? One solution is cartograms, mixtures of maps and diagrams, which distort geographical space to represent a variable. A good cartogram will exploit the underlying geographical knowledge of the reader while telling a story about the phenomena that is being mapped.\n",
    "\n",
    "This tutorial will introduce two methods to make area cartograms in QGIS and demonstrate how areal distortion might benefit your maps. \n",
    "\n",
    "In this tutorial, you will learn:\n",
    "1. About the principles of cartograms.\n",
    "2. When a cartogram may be the correct choice of visualization.\n",
    "3. How to create two types of cartograms with QGIS.\n",
    "\n",
    "You can find a more thorough explanation of cartograms and more examples [in this article by Kenneth Field](https://gistbok-topics.ucgis.org/CV-04-032)."
   ]
  },
  {
   "cell_type": "markdown",
   "id": "c9e498fb-b943-4b95-b75a-551bf25b23d8",
   "metadata": {},
   "source": [
    "## Prerequisites\n",
    "\n",
    "Install two plugins:\n",
    "- [Cartogram3](https://plugins.qgis.org/plugins/cartogram3/): Plugin for creating continous cartograms.\n",
    "- [Shape tools](https://plugins.qgis.org/plugins/shapetools/): A collection of various tools for creating and modifying geodesic shapes. We will use it for scaling polygons."
   ]
  },
  {
   "cell_type": "markdown",
   "id": "68284ea7-ca3d-4aac-8698-a7db3efbd1be",
   "metadata": {},
   "source": [
    "## Data\n",
    "We will use the example dataset provided by Cartogram3, which is the population of Austria by statistical [NUTS2 areas](https://ec.europa.eu/eurostat/web/nuts)."
   ]
  },
  {
   "cell_type": "markdown",
   "id": "27d5b5ef-5945-4a1f-9059-96a11b09a5db",
   "metadata": {},
   "source": [
    "<div style=\"background-color: #66f2ff; padding: 10px; border-left: 5px solid #00a4b3; margin-bottom: 10px;\">\n",
    "\n",
    "Load the example data to QGIS from the drop-down menu *Vector* > *Cartogram* > *Add sample dataset*\n",
    "\n",
    "</div>"
   ]
  },
  {
   "cell_type": "markdown",
   "id": "b0007762-8c0b-42b8-b150-a4905a55a1bd",
   "metadata": {},
   "source": [
    "The plugin applies a styling that nicely highlights why cartograms are sometimes handy – the labels are population density. The capital region in Vienna, and the associated NUTS2 region, is in a wholly another level of population density that the rest of the country."
   ]
  },
  {
   "cell_type": "markdown",
   "id": "f0afd019-245f-4f3a-9bd2-6864c53883da",
   "metadata": {},
   "source": [
    "<div style=\"background-color: #39f98f; padding: 10px; border-left: 5px solid #059445; margin-bottom: 10px;\">\n",
    "\n",
    "No style file for this map; it's using the style the Cartogram plugin applies by default.\n",
    "    \n",
    "</div>"
   ]
  },
  {
   "cell_type": "markdown",
   "id": "e877d202-fd6e-415e-afaf-36a71b646282",
   "metadata": {},
   "source": [
    "![Cartogram initial state](Figures/Cartograms-austria-raw.jpeg)"
   ]
  },
  {
   "cell_type": "markdown",
   "id": "adf0cf1a-a1d0-4688-9d9b-243d9726a622",
   "metadata": {},
   "source": [
    "## Non-contigous cartogram\n",
    "The simplest approach to not let geography dominate our map? Just scale the geometries according to a value of our choice. In this example, we'll use population."
   ]
  },
  {
   "cell_type": "markdown",
   "id": "f99f1511-5a94-4899-8024-ec3e18cd4788",
   "metadata": {},
   "source": [
    "We'll follow the method laid out in [Olson (1976): Non-contigous cartograms](https://doi.org/10.1111/j.0033-0124.1976.00371.x) and scale the geometries to be X times smaller and larger than initially.\n",
    "\n",
    "To do that, we'll need a scale factor, which is:\n",
    "\n",
    "$$\n",
    "\\text{Scale factor} = k \\times \\sqrt{\\frac{\\text{value}}{\\text{area}}}\n",
    "$$\n",
    "\n",
    "Where:\n",
    "\n",
    "- Value: e.g. population \n",
    "- Area: e.g. km²\n",
    "- k: 1 / the density of an \"anchor unit\". The anchor unit will stay the same size while all others are scaled relative to it. It's wise to choose an anchor unit that has a high density, otherwise some areas will be scaled up and start to overlap. We'll use *Vienna* as the anchor unit."
   ]
  },
  {
   "cell_type": "markdown",
   "id": "34b99b35-bee4-42c7-b7d0-8209af7371b4",
   "metadata": {},
   "source": [
    "Let's apply that formula and calculate a scale factor for our data:"
   ]
  },
  {
   "cell_type": "markdown",
   "id": "50e197f2-d38f-424b-a9fb-c76b23022955",
   "metadata": {},
   "source": [
    "<div style=\"background-color: #66f2ff; padding: 10px; border-left: 5px solid #00a4b3; margin-bottom: 10px;\">\n",
    "\n",
    "1. Add a new fields with **Field calculator**.\n",
    "2. First one population density squared:\n",
    "    - Output field name: *pop_density_sqrt*\n",
    "    - Output field type: *Decimal*\n",
    "    - Expression: `sqrt( \"pop20170101\" /  \"area_km2\" )`\n",
    "3. Then use that to calculate the scaling factor:\n",
    "    - Output field name: *scaling_factor*\n",
    "    - Output field type: *Decimal*\n",
    "    - Expression: `1 / maximum( \"pop_density_sqrt\") * \"pop_density_sqrt\"`\n",
    "        - Note: We use `maximum( \"pop_density_sqrt\")`as a simple way to get the highest value (the one for Vienna, our anchor unit) from the field.\n",
    "</div>"
   ]
  },
  {
   "cell_type": "markdown",
   "id": "5ff20251-a9c8-412a-87f3-cc66a2cbf3bb",
   "metadata": {},
   "source": [
    "With that, we have a field that stores the scaling values. For Vienna, that value is 1 and for the others, less than 1.\n",
    "\n",
    "Let's apply scaling:"
   ]
  },
  {
   "cell_type": "markdown",
   "id": "8148a759-6479-4aef-9dd6-4acae14a6f6d",
   "metadata": {},
   "source": [
    "<div style=\"background-color: #66f2ff; padding: 10px; border-left: 5px solid #00a4b3; margin-bottom: 10px;\">\n",
    "\n",
    "1. Run the processing tool *Geodesic transformations* (part of the Shape tools plugin: be sure to install it!)\n",
    "    - Apply a data-driven override for *Scale factor about the centroid*\n",
    "    - Expression `\"scaling_factor\"`\n",
    "        - In other words, the expression will return the value in this field.\n",
    "</div>"
   ]
  },
  {
   "cell_type": "markdown",
   "id": "dc0e58f2-be3f-4092-b890-52559d46057f",
   "metadata": {},
   "source": [
    "![Cartogram non-contiguous](Figures/Cartograms-austria-non-contiguous.jpeg)"
   ]
  },
  {
   "cell_type": "markdown",
   "id": "7336900e-b92d-4425-abd2-aff4dec91f80",
   "metadata": {},
   "source": [
    "NB! The regions are styled simply by their id. In a thematic map, the regions would be colored by, for example, the most popular political party.\n",
    "\n",
    "While this map keeps the familiar shape of the regions, the areas can get quite miniscule. In addition, it's just not very visually striking and needs the actual map of Austria in the background to imply which areas are which."
   ]
  },
  {
   "cell_type": "markdown",
   "id": "730d199d-a243-47e9-b85a-4a59f7d02128",
   "metadata": {},
   "source": [
    "## Contigous cartogram\n",
    "What if we want to keep the topology of our maps – e.g., the areas should have the same neighbours? This will mean sacrificing the shape of our regions, but it should produce a more interesting and accurate cartogram. Let's try it out on our data using the algorithm implemented in the cartogram3 plugin."
   ]
  },
  {
   "cell_type": "markdown",
   "id": "4cdc6ab0-511c-446d-93e2-b11f89cf0b2d",
   "metadata": {},
   "source": [
    "<div style=\"background-color: #66f2ff; padding: 10px; border-left: 5px solid #00a4b3; margin-bottom: 10px;\">\n",
    "\n",
    "    \n",
    "Run **Compute cartogram** (*Vector* > *Cartogram* > *Compute cartogram*). \n",
    "- Field: *pop20170101*\n",
    "    \n",
    "- You can lower max average error for a more accurate result, or keep it intact.\n",
    "\n",
    "</div>"
   ]
  },
  {
   "cell_type": "markdown",
   "id": "bcb67aea-e1d7-45cd-9192-41995655821b",
   "metadata": {},
   "source": [
    "Notice how the shapes of the cartogram are distorted – especially around the capital region. With this few areas, even most of the shapes are relatively well preserved, though that is dependent on the data that you're working on. How many units and how much the value varies between them affects the distortion quite significantly."
   ]
  },
  {
   "cell_type": "markdown",
   "id": "7f965273-be77-4ee2-9820-e2c967791080",
   "metadata": {},
   "source": [
    "![Cartogram contiguous](Figures/Cartograms-austria-contiguous.jpeg)"
   ]
  },
  {
   "cell_type": "markdown",
   "id": "ddfbbc03-ccca-4f33-904c-8085108f4c34",
   "metadata": {},
   "source": [
    "## What are cartograms, really?"
   ]
  },
  {
   "cell_type": "markdown",
   "id": "261db5bc-20d3-4d79-b399-de8afb15674f",
   "metadata": {},
   "source": [
    "Let's still consider what we are actually representing above in more detail. Calculate two fields to the contiguous cartogram that you just created."
   ]
  },
  {
   "cell_type": "markdown",
   "id": "e2db3eb0-f2fa-4e68-9ebf-41ba10d5d142",
   "metadata": {},
   "source": [
    "<div style=\"background-color: #66f2ff; padding: 10px; border-left: 5px solid #00a4b3; margin-bottom: 10px;\">\n",
    "\n",
    "    \n",
    "Use Field calculator to add a fields about how population and distorted land area are distributed between the NUTS2 areas.\n",
    "    \n",
    "1. Population distribution:\n",
    "    1. Name: `pop_proportion`\n",
    "    2. Type: Decimal\n",
    "    3. Expression: `\"pop20170101\" / sum( \"pop20170101\" ) * 100`\n",
    "2. Area distribution:\n",
    "    1. Name: `distorted_area_proportion`\n",
    "    2. Type: Decimal\n",
    "    3. Expression: `$area / sum( $area ) * 100`\n",
    "\n",
    "</div>"
   ]
  },
  {
   "cell_type": "markdown",
   "id": "a11b04f8-6d7d-4907-ba7d-deec53c7316d",
   "metadata": {},
   "source": [
    "You will have values similar to these, depending a bit on the parameters used for creating the cartogram. A difference column has been added for clarity:"
   ]
  },
  {
   "cell_type": "markdown",
   "id": "a2c30b1b-4f3c-46b6-8634-c446b1809a76",
   "metadata": {},
   "source": [
    "| nuts2 | distorted_area_proportion (%) | pop_proportion (%) | difference |\n",
    "|-------|---------------------------|----------------|------------|\n",
    "| AT13  | 19.29                     | 21.29          | -2         |\n",
    "| AT12  | 19.162                    | 18.986         | 0.176      |\n",
    "| AT31  | 16.44                     | 16.7           | -0.260     |\n",
    "| AT22  | 14.24                     | 14.103         | 0.137      |\n",
    "| AT33  | 9.83                      | 8.505          | 1.325      |\n",
    "| AT21  | 6.864                     | 6.395          | 0.469      |\n",
    "| AT32  | 6.138                     | 6.262          | -0.124     |\n",
    "| AT34  | 4.343                     | 4.43           | -0.087     |\n",
    "| AT11  | 3.694                     | 3.328          | 0.366      |\n"
   ]
  },
  {
   "cell_type": "markdown",
   "id": "e67cb813-3f69-4f63-9397-96907577e336",
   "metadata": {},
   "source": [
    "Notice that the proportion of population and proportion of land area after distortion are only different by a few percentage points at most.\n",
    "\n",
    "Thinking of the *diagram* part of cartograms, what are they then? \n",
    "\n",
    "\"**Cartograms are best understood as pie charts where the segment of the pie is reshaped to look like a country.**\" ([Worldmapper.org FAQ](https://worldmapper.org/faq/#3), quoted in [cartogram3 readme](https://github.com/austromorph/cartogram3))."
   ]
  },
  {
   "cell_type": "markdown",
   "id": "4c6a3be6-418d-41d9-83d4-c184ddb3d0d7",
   "metadata": {},
   "source": [
    "Thinking of cartograms as pie charts helps to consider when they are useful and when not. For example, the dataset may have many values with a majority of them being very small – a pie chart visualization quickly becomes unreadable. \n",
    "\n",
    "\n",
    "Consider: would a cartogram of 309 municipalities of Finland by population be useful and if so, when? ([Data from Statistics Finland](https://stat.fi/org/avoindata/paikkatietoaineistot/vaesto_tilastointialueittain_en.html))"
   ]
  },
  {
   "cell_type": "markdown",
   "id": "b334748b-6262-4141-a51a-5406a45f3b8b",
   "metadata": {},
   "source": [
    "![Finland contiguous](Figures/Cartograms-Finland.jpeg)"
   ]
  },
  {
   "cell_type": "markdown",
   "id": "99a38a12-b2d3-4fdb-9c80-c8b6960c8bb3",
   "metadata": {},
   "source": [
    "Going beyond the two cartogram types introduced here, you may be interested in [graphical or gridded cartograms](https://gistbok-topics.ucgis.org/CV-04-032). However, we are not aware of ready tools to produce them in QGIS, and it making them may require some manual work or looking for tools beyond QGIS."
   ]
  },
  {
   "cell_type": "markdown",
   "id": "f300a501-d75f-40db-98b0-e18f50b04604",
   "metadata": {},
   "source": [
    "## Replicating the processing flow of this notebook"
   ]
  },
  {
   "cell_type": "markdown",
   "id": "87d8d8fa-4399-4f8b-b935-e1bf1532cf03",
   "metadata": {},
   "source": [
    "To replicate this processing flow, run the processing model *cartograms-model.model3*. Open the model in QGIS from the leftmost button below *Processing toolbox* -> *Open existing model*. You will need to add the example data to the project before running the model. Please also note that this model includes some hard-coded field-names (as do most of these models!). They are meant for replicating this notebook, and repurposing them for general use might require some modifications."
   ]
  },
  {
   "cell_type": "markdown",
   "id": "0af59e3e-9d72-46b5-9c9a-f21dbcefbb7b",
   "metadata": {},
   "source": [
    "![Cartogram model](Figures/cartograms-model.png)"
   ]
  }
 ],
 "metadata": {
  "kernelspec": {
   "display_name": "Python 3 (ipykernel)",
   "language": "python",
   "name": "python3"
  },
  "language_info": {
   "codemirror_mode": {
    "name": "ipython",
    "version": 3
   },
   "file_extension": ".py",
   "mimetype": "text/x-python",
   "name": "python",
   "nbconvert_exporter": "python",
   "pygments_lexer": "ipython3",
   "version": "3.10.16"
  }
 },
 "nbformat": 4,
 "nbformat_minor": 5
}
