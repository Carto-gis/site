{
 "cells": [
  {
   "cell_type": "markdown",
   "id": "7108c29f-28ce-46e3-a825-abc31c8c3483",
   "metadata": {},
   "source": [
    "# Exercise 2: Static Local/Global map\n",
    "\n",
    "In this exercise you will create two maps- a static local map and a global map:\n",
    "\n",
    "- Choose another PPGIS dataset from [this repository](https://zenodo.org/communities/softgis-aalto/records?q=&f=resource_type%3Adataset&l=list&p=1&s=10&sort=newest) and explore it using appropriate visualization methods.\n",
    "- Use the global [powerplants](https://datasets.wri.org/dataset/globalpowerplantdatabase) data and make a global map. Use the appropriate visualization method for your map to explore interesting aspects of the data. Alternatively, you may use the airport dataset from the tutorial, but your map must be significantly different, focusing on new aspects of the data or using a distinct cartographic approach. If you come across other interesting global data, you can use it but remember to mention the source. \n",
    "\n",
    "The main point of this exercise is to make correct and beautiful maps so you do not necessarily need to do a lot of analysis on the data. Use what you have learned during the lecture and discussion session and implement the ideas in your map. \n",
    "\n",
    "When making the map, keep the following points in mind:\n",
    "\n",
    "- Good choice of colors\n",
    "- Visual hierarchy\n",
    "- Use of suitable projection\n",
    "- Use of map elements which are necessary for the map\n",
    "- Map layout\n",
    "\n",
    "\n",
    "## What to return?\n",
    "- One local static map of the selected PPGIS data (mention the source)\n",
    "- A global map of selected data\n",
    "- A short (half a page) reflection of what you learned from this week's lecture and discussion and how these were taken into consideration in your map. Include a short justification of the important decisions you make in your map making (such as projection, color choices, inclusion of elements, etc). Briefly describe what your map reveals and how your cartographic choices have affected that.\n",
    "\n",
    "*Remember to mention the method you have used for map making (Python (including used libraries), or QGIS)*."
   ]
  },
  {
   "cell_type": "markdown",
   "id": "480ba6a1-6357-4ff5-905e-607b76ed2dd9",
   "metadata": {},
   "source": [
    "**Grading reference: (Total Points: 10)**\n",
    "\n",
    "| **Criteria**                | **Points** | **Description**                                                                                              |\n",
    "|----------------------------|------------|--------------------------------------------------------------------------------------------------------------|\n",
    "| **Map Quality**            | 6          | Aesthetics, accuracy, and effectiveness of the maps. Attention to spatial detail, color use, visual hierarchy, and projection (3 points each). |\n",
    "| **Weekly Learning**        | 2          | Demonstrated understanding and application of weekly lecture concepts.                                       |\n",
    "| **Cartographic Reflection**| 2          | Quality of reflection and justification of cartographic decisions.                                           |\n",
    "\n",
    "\n",
    "\n",
    "### Submission\n",
    "Submit your exercise as a single pdf file to Moodle. There is **no need** to submit the Python code. \n",
    "\n",
    "**Deadline**: Thursday 22.5.2025, end of day."
   ]
  },
  {
   "cell_type": "code",
   "execution_count": null,
   "id": "f8cc54f0-d037-4e80-b0ee-4a0857e4ff14",
   "metadata": {},
   "outputs": [],
   "source": []
  }
 ],
 "metadata": {
  "kernelspec": {
   "display_name": "Python 3 (ipykernel)",
   "language": "python",
   "name": "python3"
  },
  "language_info": {
   "codemirror_mode": {
    "name": "ipython",
    "version": 3
   },
   "file_extension": ".py",
   "mimetype": "text/x-python",
   "name": "python",
   "nbconvert_exporter": "python",
   "pygments_lexer": "ipython3",
   "version": "3.13.3"
  }
 },
 "nbformat": 4,
 "nbformat_minor": 5
}
