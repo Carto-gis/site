{
 "cells": [
  {
   "cell_type": "markdown",
   "id": "0018624d-800f-408d-bae9-a1b32f37a7bb",
   "metadata": {},
   "source": [
    "# A Local Static Map - Visualizing PPGIS Data from Helsinki: the QGIS approach\n",
    "\n",
    "In this tutorial, we will work with a PPGIS dataset from Helsinki and explore methods to create a local map of our data. Public Participation Geographic Information Systems (PPGIS) blend GIS technologies with public participation processes for a more inclusive approach to spatial planning and policymaking. PPGIS utilizes map-based surveys and geospatial tools to gather public feedback on projects like urban development, environmental conservation, and transportation planning. Its key focus is enabling communities to contribute directly to the planning process, ensuring decisions are democratic, equitable, and informed. Learn more about PPGIS [here](https://en.wikipedia.org/wiki/Participatory_GIS).\n",
    "\n",
    "\n",
    "Throughout this tutorial, we'll create various visualizations using vector data, practicing:\n",
    "\n",
    "- Basic point maps\n",
    "- Manipulating and classifying data to enhance maps\n",
    "- Visualizing large point datasets to identify patterns\n",
    "- Working with map legends and overview maps.\n",
    "- Working with labelling\n",
    "\n",
    "\n",
    "By the end of this tutorial, you'll have the skills to create static visualizations of local geospatial data and uncover insights from datasets. Let's get started!\n"
   ]
  },
  {
   "cell_type": "markdown",
   "id": "90c3c46f-8dbe-4cfc-8ac8-9f89315a1e19",
   "metadata": {},
   "source": [
    "## Data\n",
    "\n",
    "We're using an open, anonymized dataset from the Zenodo [repository](https://zenodo.org/records/3621342), collected as part of the Urban Happiness project at Aalto University. It includes datasets on home locations, everyday errands, and experience points in Helsinki and Espoo. This tutorial focuses on Helsinki's experiential data, representing places marked by participants. We're particularly interested in the `Quality` column, which indicates whether places are perceived as *Positive* or *Negative*.\n",
    "\n",
    "The geopackage */data/PPGIS/ppgis-data.gpkg* contains this data and two auxiliary layers used in this tutorial.\n",
    "\n",
    "- Download the [tutorial data here](data/PPGIS/ppgis-data.gpkg)\n",
    "\n",
    "\n",
    "## QGIS files:\n",
    "You can download all of this week's QGIS materials as a zipfile [here](QGIS-files/QGIS-files.zip)\n",
    "\n",
    "The files relevant for this tutorial are:\n",
    "\n",
    "### Style files\n",
    "These files are used for the examples in this tutorial. A note above the map will tell you which styles are needed for that map:\n",
    "- [PPGIS_grid_style.qml](QGIS-files/PPGIS_grid_style.qml)\n",
    "- [PPGIS_landmark_labels_style.qml](QGIS-files/PPGIS_landmark_labels_style.qml)\n",
    "- [PPGIS_point_style.qml](QGIS-files/PPGIS_point_style.qml)\n",
    "\n",
    "### Model files\n",
    "This processing model file automates the processing steps taken in this tutorial and outputs layers styled the same as in the example maps.\n",
    "- [local_map_PPGIS.model3](QGIS-files/local_map_PPGIS.model3)"
   ]
  },
  {
   "cell_type": "markdown",
   "id": "c9e498fb-b943-4b95-b75a-551bf25b23d8",
   "metadata": {},
   "source": [
    "## Prerequisites\n",
    "\n",
    "Install the following plugin:\n",
    "- [QuickMapServices](https://plugins.qgis.org/plugins/quick_map_services/): Easiest way to add basemaps, such as OpenStreetMap tiles, to QGIS."
   ]
  },
  {
   "cell_type": "markdown",
   "id": "db54f06d-ab63-4340-b4b6-29da62f9efc0",
   "metadata": {},
   "source": [
    "## Data exploration\n",
    "\n",
    "Start by importing the geopackage *ppgis-data* to the project and examining its attributes and spatial distribution. Work with the layer *ExperiencePoints_All_Helsinki* for now."
   ]
  },
  {
   "cell_type": "markdown",
   "id": "d21d74f2-d25e-4d5c-b139-6e423c85814b",
   "metadata": {},
   "source": [
    "The attribute table will look something like this:\n",
    "\n",
    "| uid  | Qual_Type  | Quality  | \n",
    "|---|---|---|\n",
    "|  910016 |  Functional |  negative |\n",
    "|  910027 | Functional  |  negative |\n",
    "|  910032 |  Functional |  negative |\n",
    "| ... |  ... |  ... |"
   ]
  },
  {
   "cell_type": "markdown",
   "id": "98e6bf94-caa5-438c-8fca-2b558022805a",
   "metadata": {},
   "source": [
    "We have several outlier points that fall well outside our study area, which is Helsinki. These outliers are not only irrelevant to our study (being outside our area of interest) but can also negatively affect the appearance of our map. Therefore, it's important to exclude them. Use the *Helsinki_borders_OSM* layer for this:"
   ]
  },
  {
   "cell_type": "markdown",
   "id": "8cf17602-680d-4f31-b36f-14f44c02fea5",
   "metadata": {},
   "source": [
    "<div style=\"background-color: #66f2ff; padding: 10px; border-left: 5px solid #00a4b3; margin-bottom: 10px;\">\n",
    "\n",
    "1. Run *Extract by location* processing tool.\n",
    "2. Extract from the point layer by comparing with the boundary layer using the predicate *intersection*.\n",
    "    \n",
    "</div>"
   ]
  },
  {
   "cell_type": "markdown",
   "id": "34c5fdee-e168-4e3c-93e3-89a483d9ad7c",
   "metadata": {},
   "source": [
    "## 1. Point map"
   ]
  },
  {
   "cell_type": "markdown",
   "id": "44366daf-31ce-443e-8499-bff45ce517da",
   "metadata": {},
   "source": [
    "To enhance the context of our geospatial data, adding a basemap can be incredibly helpful. While basemaps are not always necessary for every type of map, they can significantly aid in contextualizing our data, making it easier for viewers to understand the geographical placement and surroundings of the data points. \n",
    "\n",
    "You will find QuickMapServices under the drop-down menu *Web*. The following example maps will use *CartoDB > Positron*. You are free to select other basemaps, as well."
   ]
  },
  {
   "cell_type": "markdown",
   "id": "19e5a17c-7e0d-4bd0-ad94-b2e91ab7c490",
   "metadata": {},
   "source": [
    "<div style=\"background-color: #66f2ff; padding: 10px; border-left: 5px solid #00a4b3; margin-bottom: 10px;\">\n",
    "\n",
    "Add a basemap. You will find QuickMapServices under the drop-down menu *Web*. The following example maps will use *CartoDB > Positron*.\n",
    "\n",
    "You are free to select a basemap of your liking.\n",
    "    \n",
    "</div>"
   ]
  },
  {
   "cell_type": "markdown",
   "id": "f51158b8-4249-4de5-872e-2d5cd9c3e5af",
   "metadata": {},
   "source": [
    "Ensuring the integrity and accuracy of our data is a pivotal step towards creating informative and visually appealing maps. A critical part of this process involves closely examining the data we plan to visualize, particularly focusing on key attributes that will drive our analysis and presentation. One such attribute is the \"Quality\" column within our dataset. It's essential to scrutinize the range of values this column contains, as it directly influences how we interpret and represent our geospatial data on the map. Let's take a moment to review the values in the \"Quality\" column to confirm their accuracy and consistency, ensuring they align with our mapping objectives."
   ]
  },
  {
   "cell_type": "markdown",
   "id": "ec49ef00-99c1-4644-b7cc-32dfb80abb8b",
   "metadata": {},
   "source": [
    "<div style=\"background-color: #66f2ff; padding: 10px; border-left: 5px solid #00a4b3; margin-bottom: 10px;\">\n",
    "\n",
    "Style the points layer with the column *Quality* using a *Categorized* approach.\n",
    "    \n",
    "</div>"
   ]
  },
  {
   "cell_type": "markdown",
   "id": "a9de9b49-4212-43db-bbc7-6ca133225c12",
   "metadata": {},
   "source": [
    "Our thorough examination has paid off – there are three classes when we should only have two! The \"Negative\" values in the \"Quality\" column have inconsistent capitalization, appearing as both \"negative\" and \"Negative.\" This variance, if left unaddressed, could skew our map's accuracy. Let's rectify this by standardizing the capitalization, ensuring our data's consistency and reliability for accurate mapping."
   ]
  },
  {
   "cell_type": "markdown",
   "id": "e314460b-ba4c-42e4-b570-2b646b09a0ec",
   "metadata": {},
   "source": [
    "<div style=\"background-color: #66f2ff; padding: 10px; border-left: 5px solid #00a4b3; margin-bottom: 10px;\">\n",
    "\n",
    "1. Update the `Quality` field using the field calculator.\n",
    "2. Use the expression `title(\"Quality\")`\n",
    "    1. *Title* function unifies the capitalization of the strings. In detail: *Converts all words of a string to title case (all words lower case with leading capital letter).*\n",
    "\n",
    "</div>"
   ]
  },
  {
   "cell_type": "markdown",
   "id": "e5cceb65-eeda-40a8-ab88-6d8436486fbb",
   "metadata": {},
   "source": [
    "Finally, we'll introduce color coding for the points based on the \"Quality\" value, adding an intuitive layer of analysis that allows viewers to distinguish between positive and negative locations. "
   ]
  },
  {
   "cell_type": "markdown",
   "id": "bf0c716d-8eb9-4fcc-bd0a-97dc641c5d74",
   "metadata": {},
   "source": [
    "<div style=\"background-color: #66f2ff; padding: 10px; border-left: 5px solid #00a4b3; margin-bottom: 10px;\">\n",
    "\n",
    "- Pick whatever colors you think represent \"positive\" and \"negative\" well. \n",
    "    - Keep in mind the intuitions attached to colors – e.g., green would generally be seen as 'positive' and red as 'negative'. Also consider various color vision impairments and their effect on the reader being able to interpret your map.\n",
    "\n",
    "</div>"
   ]
  },
  {
   "cell_type": "markdown",
   "id": "4ba4709c-18b6-432e-9536-b540bb58cb69",
   "metadata": {},
   "source": [
    "<div style=\"background-color: #39f98f; padding: 10px; border-left: 5px solid #059445; margin-bottom: 10px;\">\n",
    "\n",
    "**Style files**\n",
    "    \n",
    "- Point layer: *PPGIS_point_style.qml*\n",
    "    \n",
    "</div>"
   ]
  },
  {
   "cell_type": "markdown",
   "id": "19de79ff-c1e5-4f2f-a4db-4956cc840223",
   "metadata": {},
   "source": [
    "![PPGIS point map tutorial](Figures/practical2_ppgis_point_map.jpeg)"
   ]
  },
  {
   "cell_type": "markdown",
   "id": "2d506b95-5826-46af-92b6-94958207d74c",
   "metadata": {},
   "source": [
    "We now have a visually appealing point map. However, with datasets characterized by dense clusters of points where negative and positive locations often overlap, the effectiveness of point maps can be somewhat questionable. Recognizing this challenge, we'll explore alternative visualization techniques in our next steps. Our goal is to enhance the representation of this PPGIS data, exploring different cartographic methods that might better convey the spatial patterns and relationships inherent in our dataset. **Remember our aims**: to uncover more **insightful** and **user-friendly** ways to visualize complex spatial data.\n"
   ]
  },
  {
   "cell_type": "markdown",
   "id": "2015231e-b2d0-4662-b8d2-f8e9e5405363",
   "metadata": {},
   "source": [
    "## 2. A grid-based representation"
   ]
  },
  {
   "cell_type": "markdown",
   "id": "5f83307e-df60-4fde-8cd4-0d0e016c2e14",
   "metadata": {},
   "source": [
    "One effective strategy to address the challenge of overlapping and densely clustered points is by aggregating our points into larger areas. While this can often involve grouping points by real-world boundaries, such as neighborhoods, to provide a localized analysis of experiences, our current focus is on a broader view of Helsinki rather than its specific neighborhoods. To achieve this, we can construct a grid network that encompasses all our points. By aggregating our points into these grid cells, we can perform calculations that serve as the basis for our visualization. This approach allows us to transform a complex mass of individual data points into a clear, coherent picture of overall trends and patterns across the city, offering an innovative way to represent large point data.\n",
    "\n",
    "Let's create the grid:"
   ]
  },
  {
   "cell_type": "markdown",
   "id": "3e358b46-a124-4aa0-8c6c-01a1fb0cba3e",
   "metadata": {},
   "source": [
    "<div style=\"background-color: #66f2ff; padding: 10px; border-left: 5px solid #00a4b3; margin-bottom: 10px;\">\n",
    "\n",
    "1. Run the processing tool *Create grid*\n",
    "2. Get the layer extents from the point layer that's been limited to Helsinki; \"Extracted\" or similar.\n",
    "3. Let's create 250 x 250 m grid cells. Set *Horizontal* and *Vertical* spacing to **250**.\n",
    "\n",
    "</div>"
   ]
  },
  {
   "cell_type": "markdown",
   "id": "705eed54-0927-4f1d-b031-f888fdb95467",
   "metadata": {},
   "source": [
    "Next, we'll want to calculate how many *Positive* and how many *Negative* points fall into each cell of the grid."
   ]
  },
  {
   "cell_type": "markdown",
   "id": "fd654573-59fa-4a18-ac9c-0fd700fabc83",
   "metadata": {},
   "source": [
    "<div style=\"background-color: #66f2ff; padding: 10px; border-left: 5px solid #00a4b3; margin-bottom: 10px;\">\n",
    "\n",
    "1. Run the processing tool *Extract by attribute*\n",
    "    - *Selection attribute*: **Quality**\n",
    "    - *Value*: **Positive**\n",
    "2. Select that *Extracted (non-matching)* is output as a temporary layer. It contains all the rest of the points that is, the ones with Negative values.\n",
    "3. Rename the new created layers: *Extracted (attribute)* to *Positives* and *Extracted (non-matching)* to *Negatives*. \n",
    "</div>"
   ]
  },
  {
   "cell_type": "markdown",
   "id": "c854a18e-8179-4a14-9b35-6c44bfcf5399",
   "metadata": {},
   "source": [
    "Aggregate the count of points falling on the grid."
   ]
  },
  {
   "cell_type": "markdown",
   "id": "e12557b6-aa92-42c4-b582-abd562007d32",
   "metadata": {},
   "source": [
    "<div style=\"background-color: #66f2ff; padding: 10px; border-left: 5px solid #00a4b3; margin-bottom: 10px;\">\n",
    "    \n",
    "1. Run the processing tool *Count points in polygon* **first on the positives layer**.\n",
    "    1. Polygons: Grid.\n",
    "    2. Points: *Positives*\n",
    "    3. Count field name: *positives*\n",
    "1. Then repeat the process on the newly created *Count* layer, this time adding **Negatives**:\n",
    "    1. Polygons: Count\n",
    "    2. Points: *Negatives*\n",
    "    3. Count field name: *negatives*\n",
    "\n",
    "\n",
    "This will give a new count layer with columns *positives* and *negatives*\n",
    "</div>"
   ]
  },
  {
   "cell_type": "markdown",
   "id": "5c84d51e-b5d5-4a1e-994f-322ee33542a6",
   "metadata": {},
   "source": [
    "Finally, let's remove cells with no points."
   ]
  },
  {
   "cell_type": "markdown",
   "id": "26a47b13-7076-4f0d-84e6-f43faaca8e05",
   "metadata": {},
   "source": [
    "<div style=\"background-color: #66f2ff; padding: 10px; border-left: 5px solid #00a4b3; margin-bottom: 10px;\">\n",
    "\n",
    "1. Run the processing tool *Extract by expression*.\n",
    "2. Use the expression `\"positives\" OR \"negatives\"`\n",
    "    - Make sure these field names match exactly to the point-in-polygon count fields defined previously.\n",
    "    - This returns all grid cells where either value is >0.\n",
    "\n",
    "</div>"
   ]
  },
  {
   "cell_type": "markdown",
   "id": "71dfaaca-2c08-49f2-969e-7d6a3769d63a",
   "metadata": {},
   "source": [
    "Now we have a grid with a count of positive and negative observations per grid cell. To further refine our analysis and visualization, we aim to transform the raw counts of positive and negative points per cell into a more interpretable and visually accessible metric. An effective strategy for achieving this is the calculation of a \"positivity score.\" This score quantifies the overall sentiment of each cell on a scale where:\n",
    "\n",
    "- A score close to 1 signifies a predominantly positive sentiment,\n",
    "- A score close to -1 denotes a predominantly negative sentiment, and\n",
    "- A score around 0 reflects a neutral or balanced sentiment, indicating an equal distribution of positive and negative values.\n",
    "\n",
    "The formula for calculating the positivity score is as follows:\n",
    "\n",
    "$$\n",
    "\\text{Positivity Score} = \\frac{\\text{Positive} - \\text{Negative}}{\\text{Positive} + \\text{Negative}}\n",
    "$$\n",
    "\n",
    "By integrating this score into our visualization, we can offer a nuanced view of the spatial distribution of sentiments, enhancing the overall utility and insightfulness of our PPGIS data representation. But **remember** that this is just one way to analyze and visualize our data. Depending on what you're looking at, the kind of data you have, and the map you're working with, there could be many different methods that might work better. This approach gives us a straightforward way to get a quick sense of the overall sentiment in each area. "
   ]
  },
  {
   "cell_type": "markdown",
   "id": "89540dc7-a8c5-4e8e-8c5b-e2224b424e81",
   "metadata": {},
   "source": [
    "<div style=\"background-color: #66f2ff; padding: 10px; border-left: 5px solid #00a4b3; margin-bottom: 10px;\">\n",
    "\n",
    "1. Add a new field using the *Field calculator*.\n",
    "    \n",
    "    1. Field name: `positivity_score`\n",
    "\n",
    "    2. Field type: Decimal\n",
    "\n",
    "    3. Expression: `(\"positives\" - \"negatives\" ) / (\"positives\" + \"negatives\")`\n",
    "    \n",
    "\n",
    "</div>"
   ]
  },
  {
   "cell_type": "markdown",
   "id": "e25ee518-9aac-4e11-8281-29c4960a0cb4",
   "metadata": {
    "tags": []
   },
   "source": [
    "Great! You should have a new field with positivity score calculated. Style it with graduated symbology – *Natural breaks (Jenks)* is a good classification scheme. "
   ]
  },
  {
   "cell_type": "markdown",
   "id": "8b363609-b22d-4cb0-8992-fede5f73b2ca",
   "metadata": {},
   "source": [
    "<div style=\"background-color: #ffa64d; padding: 10px; border-left: 5px solid #cc6600; margin-bottom: 10px;\">\n",
    "\n",
    "An example map is below. Some notes on it:\n",
    "\n",
    "- The data is split into five classes using Natural breaks.\n",
    "- Color map *Viridis* is used – could a [Diverging](https://matplotlib.org/stable/users/explain/colors/colormaps.html#diverging) color map work better to emphasize the negative-neutral-positive scale?\n",
    "- An overview map in bottom right corner – [see how to add one in QGIS](https://docs.qgis.org/latest/en/docs/user_manual/print_composer/composer_items/composer_map.html#overviews)\n",
    "- Data and background map credits are included. What other map elements can you spot and do you think their inclusion is warranted? Is something redundant?\n",
    "    \n",
    "</div>\n",
    "\n"
   ]
  },
  {
   "cell_type": "markdown",
   "id": "2c78177d-911f-4e6c-889e-bb3c3da0b48c",
   "metadata": {},
   "source": [
    "<div style=\"background-color: #39f98f; padding: 10px; border-left: 5px solid #059445; margin-bottom: 10px;\">\n",
    "\n",
    "**Style files**\n",
    "    \n",
    "- Grid: *PPGIS_grid_style.qml*\n",
    "\n",
    "</div>"
   ]
  },
  {
   "cell_type": "markdown",
   "id": "a95d89ba-4ecf-4eec-a904-094a8e651f34",
   "metadata": {},
   "source": [
    "![PPGIS grid map tutorial2](Figures/practical2_ppgis_grid_map.jpeg)"
   ]
  },
  {
   "cell_type": "markdown",
   "id": "9e6657f8-dcc3-407b-99ec-1fcb89db2e39",
   "metadata": {},
   "source": [
    "### Adding landmarks and labels"
   ]
  },
  {
   "cell_type": "markdown",
   "id": "3022bb7f-16a9-4aa2-845c-1e1099addc38",
   "metadata": {},
   "source": [
    "To make our map more user-friendly and easier to navigate, incorporating landmarks can significantly enhance spatial orientation. By highlighting well-known places, users can quickly identify specific areas of interest within Helsinki. While we'll manually add a few landmarks using their coordinates for demonstration purposes, it's worth noting that such data can also be sourced from platforms like OpenStreetMap (OSM). "
   ]
  },
  {
   "cell_type": "markdown",
   "id": "fd7564b2-e374-4b62-b4da-16a4feac9726",
   "metadata": {},
   "source": [
    "<div style=\"background-color: #66f2ff; padding: 10px; border-left: 5px solid #00a4b3; margin-bottom: 10px;\">\n",
    "    \n",
    "1. Use the landmarks layer from *ppgis-data*\n",
    "2. From the styling settings, enable labels for this layer.\n",
    "    \n",
    "</div>"
   ]
  },
  {
   "cell_type": "markdown",
   "id": "4213cd94-c58d-4277-bd44-a1b20eb73d50",
   "metadata": {},
   "source": [
    "The labels are not very informative with the default styling – notice how they overlap and get muddled with the data.\n",
    "\n",
    "![PPGIS labels bad example](Figures/practical2_ppgis_labels_bad_example.png)\n",
    "\n",
    "Let's make the labels stand out:"
   ]
  },
  {
   "cell_type": "markdown",
   "id": "6a97b023-6c22-47d9-86eb-38cc418789aa",
   "metadata": {},
   "source": [
    "<div style=\"background-color: #66f2ff; padding: 10px; border-left: 5px solid #00a4b3; margin-bottom: 10px;\">\n",
    "    \n",
    "1. Enable *Buffer* for the layer. The default white is decent, but you may fine-tune the colors if you wish.\n",
    "2. Enable [Callouts](https://docs.qgis.org/3.34/en/docs/user_manual/style_library/label_settings.html#callouts-tab). Callouts connect the feature and label if they must be placed further apart.\n",
    "3. From the main screen and the labelling toolbar ![PPGIS label toolbar](Figures/icon_labeling_toolbar.png), activate *Move a label...* (the middle one).\n",
    "    - If you don't see the labelling toolbar, activate it from *View*>*Toolbars*>*Label toolbar*\n",
    "4. Move the three labels to positions you find suitable.\n",
    "    - Note that label placement is governed by rules set in the *Placement* tab of labelling settings. Setting manual placement can come in handy, especially if there are only a few labels.\n",
    "    \n",
    "</div>"
   ]
  },
  {
   "cell_type": "markdown",
   "id": "18bce9c9-b6c4-4575-bce8-baddd55ecfdb",
   "metadata": {},
   "source": [
    "<div style=\"background-color: #ffa64d; padding: 10px; border-left: 5px solid #cc6600; margin-bottom: 10px;\">\n",
    "\n",
    "Since QGIS 3.22, there is also a way to add annotations directly without using a data layer in between. Read more on **Annotation layers** in [this introduction by North Road](https://north-road.com/2021/10/21/introducing-annotation-layers-in-qgis-3-22/).\n",
    "    \n",
    "</div>"
   ]
  },
  {
   "cell_type": "markdown",
   "id": "7e61e41b-93c3-462f-bb38-de8ac0e8a15f",
   "metadata": {},
   "source": [
    "Here's what we cooked up – how does your map look like?"
   ]
  },
  {
   "cell_type": "markdown",
   "id": "53f868d8-b905-4555-a3af-8cfc7a9a546a",
   "metadata": {},
   "source": [
    "<div style=\"background-color: #39f98f; padding: 10px; border-left: 5px solid #059445; margin-bottom: 10px;\">\n",
    "\n",
    "**Style files**\n",
    "    \n",
    "- Grid: *PPGIS_grid_style.qml*\n",
    "\n",
    "</div>"
   ]
  },
  {
   "cell_type": "markdown",
   "id": "2642a08f-3866-4305-beb8-8f64e72a29db",
   "metadata": {},
   "source": [
    "![PPGIS grid with labels](Figures/practical2_ppgis_grid_map_labels.jpeg)"
   ]
  },
  {
   "cell_type": "markdown",
   "id": "305c8129-6719-4061-91c6-8a4346855974",
   "metadata": {},
   "source": [
    "### Stretch goal\n",
    "\n",
    "Want to explore the data further? Try using [heatmaps](https://docs.qgis.org/latest/en/docs/user_manual/processing_algs/qgis/interpolation.html#heatmap-kernel-density-estimation).\n",
    "    \n",
    "You can also check how a heatmap analysis is implemented with Python libraries at the Python version of this tutorial."
   ]
  },
  {
   "cell_type": "markdown",
   "id": "fe0f28bb-804a-4dd3-b704-214b70d39dcd",
   "metadata": {},
   "source": [
    "### Replicating the processing flow of this notebook\n",
    "\n",
    "To replicate this processing flow, download the model file *local_map_PPGIS.model3*. Open the model in QGIS from the leftmost button below *Processing toolbox* -> *Open existing model*. You will need all the layers in the *ppgis-data-gpkg* file and all three style files. "
   ]
  },
  {
   "cell_type": "markdown",
   "id": "ec0e1f12-99b3-486c-9f3f-fc8b01aa8e1b",
   "metadata": {},
   "source": [
    "![PPGIS grid with labels](Figures/practical2_ppgis_model.png)"
   ]
  }
 ],
 "metadata": {
  "kernelspec": {
   "display_name": "Python 3 (ipykernel)",
   "language": "python",
   "name": "python3"
  },
  "language_info": {
   "codemirror_mode": {
    "name": "ipython",
    "version": 3
   },
   "file_extension": ".py",
   "mimetype": "text/x-python",
   "name": "python",
   "nbconvert_exporter": "python",
   "pygments_lexer": "ipython3",
   "version": "3.9.21"
  }
 },
 "nbformat": 4,
 "nbformat_minor": 5
}
