{
 "cells": [
  {
   "cell_type": "markdown",
   "id": "70230fda-2548-45d9-8bdd-f9c0700cf634",
   "metadata": {},
   "source": [
    "# Global static map of flight routes – the QGIS approach\n",
    "In this tutorial we will create a global map showing the connections between major airports around the world. You will practice:\n",
    "1. Layouting a world map\n",
    "2. Projections and their effect on a world map\n",
    "3. Tricks for visualizing an over-crowded map.\n",
    "4. Keep working with data-driven styling"
   ]
  },
  {
   "cell_type": "markdown",
   "id": "43cbe975-a994-4652-8b35-362204cd90a8",
   "metadata": {},
   "source": [
    "### Data\n",
    "We will work with a dataset from [Openflights.org](https://openflights.org/). It is a rich database of airports around the world as well as information such as the geographical locations and global connections. For this tutorial, the data has been slightly preprocessed from the raw text files to geospatial point layers – flight route *sources* and *destinations*. An id field named *route_id* connects each route. \n",
    "\n",
    "- Download the [tutorial data here](data/sources_and_destinations.gpkg).\n",
    "\n",
    "### QGIS-files\n",
    "You can download all of this week's QGIS materials as a zipfile [here](QGIS-files/QGIS-files.zip)\n",
    "\n",
    "The files relevant for this tutorial are:\n",
    "\n",
    "#### Style files\n",
    "These files are used for the examples in this tutorial. A note above the map will tell you which styles are needed for that map:\n",
    "- [airports_style.qml](QGIS-files/airports_style.qml)\n",
    "- [flight_routes_style.qml](QGIS-files/flight_routes_style.qml)\n",
    "\n",
    "#### Model files\n",
    "This processing model file automates the processing steps taken in this tutorial and outputs layers styled the same as in the example maps.\n",
    "- [local_map_PPGIS.model3](QGIS-files/flight_routes_and_airports.model3)"
   ]
  },
  {
   "cell_type": "markdown",
   "id": "d38bff76-9ae0-4dd0-9c8d-e6ca325a7a2d",
   "metadata": {},
   "source": [
    "## Preprocessing steps\n"
   ]
  },
  {
   "cell_type": "markdown",
   "id": "ed40463e-beb1-433c-be95-4145ac429744",
   "metadata": {},
   "source": [
    "Open the two layers *sources* and *destinations* in *sources_and_destinations.gpkg* in QGIS.\n",
    "\n",
    "The layers have three fields we'll be using:\n",
    "\n",
    "- *source / destination_airport*: Unique three character identifier.\n",
    "- *name_source/\\_destination*: Name of the airport.\n",
    "- *route_id*: Unique identifier for each route. E.g. route with id **1**'s source is **ASF** and destination **KZN**.\n",
    "\n",
    "A naïve point map doesn't tell us much anything except maybe that there are few airports in the sparsely populated areas of the globe."
   ]
  },
  {
   "cell_type": "markdown",
   "id": "ed657cbe-ff8f-4705-950c-6c1cdc01a8c1",
   "metadata": {},
   "source": [
    "<div style=\"background-color: #39f98f; padding: 10px; border-left: 5px solid #059445; margin-bottom: 10px;\">\n",
    "\n",
    "No style file is provided for this map.\n",
    "    \n",
    "</div>"
   ]
  },
  {
   "cell_type": "markdown",
   "id": "46ce9807-aaf3-403e-964f-5187e8a0aa77",
   "metadata": {},
   "source": [
    "![Practical 2 starting point](Figures/practical2_starting_point.jpeg)"
   ]
  },
  {
   "cell_type": "markdown",
   "id": "bed9a15f-612f-4d86-a649-b5565c473a2c",
   "metadata": {},
   "source": [
    "We'll create two layers from this starting point:\n",
    "\n",
    "- Lines connecting each source and destination route\n",
    "- Airport layer with information of how many routes terminate at that airport.\n",
    "\n",
    "And of course create a neat map with these layers!"
   ]
  },
  {
   "cell_type": "markdown",
   "id": "378bf845-a5ca-4384-8a93-c8892a834ec5",
   "metadata": {},
   "source": [
    "### Route lines\n"
   ]
  },
  {
   "cell_type": "markdown",
   "id": "dfb67689-d1bc-47cf-9290-cfe64669c170",
   "metadata": {},
   "source": [
    "<div style=\"background-color: #66f2ff; padding: 10px; border-left: 5px solid #00a4b3; margin-bottom: 10px;\">\n",
    "   \n",
    "1. Run the processing algorithm *Join by lines (hub lines)*.\n",
    "2. For the parameters:\n",
    "    - Hub layer & Spoke layer: *Destinations* and *Sources*\n",
    "    - Hub / Spoke ID field: *route_id*\n",
    "    - Select *Create geodesic lines.*\n",
    "    - Under **Advanced parameters**\n",
    "        - Distance between vertices: smaller than the default 1000, for example *100*.\n",
    "        - Select *Split lines at antimeridian...*\n",
    "3. NB! This tool with this data is really slow! Expect the processing to take about 6 minutes.\n",
    "    \n",
    "</div>"
   ]
  },
  {
   "cell_type": "markdown",
   "id": "bf5593a0-e3fd-4723-8ee4-e7b7a5cc0b82",
   "metadata": {},
   "source": [
    "You may wonder what geodesic lines are. Basically, they are the shortest possible lines between two points on a surface – also known as great circle lines when calculated on the globe (see [here for a shorth introduction](http://www.blog-geographica.com/2015/06/11/geodesic-lines-gis/) by Cayetano Benavent). Don't believe they are the shortest possible lines? Try changing the project's CRS to a Gnomonic projection (e.g., EPSG:102034) and notice that these curved great circle lines are now straight!\n",
    "\n",
    "If you want, you may also rerun the tool without selecting geodesic lines (expect it to take another several minutes).\n",
    "\n",
    "We created these lines as geodesic both to make the routes more accurate to those the airlines may fly and more visually pleasing / less clustered. Nonetheless, the routes are hard to interpret with the default styles."
   ]
  },
  {
   "cell_type": "markdown",
   "id": "da07847e-0d21-4397-a3ff-43b6c7f66409",
   "metadata": {},
   "source": [
    "#### Styling the route lines\n",
    "As always, we encourage experimentation. One example approach is shared in the style file *flight_routers_style.qml*. \n",
    "\n",
    "Some considerations that went into this style:\n",
    "\n",
    "- Reduced line width (0.1 millimeters) to mitigate crowding.\n",
    "- Added very high levels of transparency (Opacity: 5 %). Emphasizes areas with many criss-crossing routes such as Central Europe.\n",
    "- Grey color approaching white (`#c4c4c4`): Good and striking contrast against a dark background – always a strong, if safe, choice!"
   ]
  },
  {
   "cell_type": "markdown",
   "id": "bf53b4cf-ddb4-4bb5-96f2-8f656c1ec34a",
   "metadata": {},
   "source": [
    "### Airports\n",
    "Let's get a count of how many routes terminate in each airport and add that information to our map.\n",
    "\n",
    "For that, we'll group the values based on a field value and calculate new values based on an *aggregate* function."
   ]
  },
  {
   "cell_type": "markdown",
   "id": "6e7137d2-8420-45d9-a89e-a2c6c3ffbd3a",
   "metadata": {},
   "source": [
    "<div style=\"background-color: #66f2ff; padding: 10px; border-left: 5px solid #00a4b3; margin-bottom: 10px;\">\n",
    "   \n",
    "1. Run the processing tool *Aggregate*.\n",
    "2. Parameters:\n",
    "    - Input layer: *Destinations*\n",
    "    - Group by expression: *destination_airport*\n",
    "    - Aggregates:\n",
    "        1. Keep only *destination_airport* and *route_id*, remove others.\n",
    "        2. Aggregate function\n",
    "            - destination_airport: *first_value*\n",
    "            - route_id: *count*\n",
    "        3. Name:\n",
    "            - route_id: *routes_count*\n",
    "    \n",
    "</div>"
   ]
  },
  {
   "cell_type": "markdown",
   "id": "15418029-fda4-4ab3-8b85-4bd9c664f216",
   "metadata": {},
   "source": [
    "#### Styling the airports layer\n",
    "\n",
    "Using the example style *airports_style.qml*\n",
    "\n",
    "Ideas behind this style:\n",
    "\n",
    "- A graduated style by size; airports with more terminations are bigger.\n",
    "    - 10 classes (sizes 0.5–3.5 mm), classified with Natural breaks (Jenks). This is an arbitrary choice: there could be more classes or fewer; discerning between exact class boundaries is next to impossible in any case.\n",
    "- Color by the longitude coordinate of the airport.\n",
    "    - Data-driven coloring under Symbol > Configure symbol > Simple marker > Fill color > Data-driven expression / Assistant. Source `x(@geometry)`. Values from -180 to 180 and Viridis color ramp.\n",
    "        - Again, this decision is arbitrary and mostly serves to make the map more visually interesting. Another approach would be to have the color carry a meaning; e.g., the color is also dependent on the number of terminations or the color is based on the continent of the airport.\n",
    "    "
   ]
  },
  {
   "cell_type": "markdown",
   "id": "60f7a1c7-a7ce-4b1a-9ef8-ae6f6d3f92b0",
   "metadata": {},
   "source": [
    "## Mapping"
   ]
  },
  {
   "cell_type": "markdown",
   "id": "b46dadb5-5a11-403e-a1a2-78e0564ec1d7",
   "metadata": {},
   "source": [
    "Put the layers together and layout a map."
   ]
  },
  {
   "cell_type": "markdown",
   "id": "a17eebf6-f699-4a44-a36d-aeb9e98e7f86",
   "metadata": {},
   "source": [
    "<div style=\"background-color: #ffa64d; padding: 10px; border-left: 5px solid #cc6600; margin-bottom: 10px;\">\n",
    "\n",
    "Some elements of the example map below:\n",
    "\n",
    "- **Page**: The data is wider than taller. The width is the A4 standard (297 mm) but the height is reduced to 160 mm. Background set to a very dark gray.\n",
    "- **Legend**: Manually culled to remove unncessary layers and symbols from the airport layer. Placed in a mostly empty corner of the map – use the whitespace to your advantage!\n",
    "- **Title**: Something short and informative, placed and sized prominently.\n",
    "\n",
    "Think of ways to improve the map. For example:\n",
    " - **Projection**: the example map uses the standard EPSG:4326 CRS. Would another projection, such as Robinson be more suitable?\n",
    " - **Additional layers**: You may also consider adding a world map of country borders into the map, although the structure of land areas emerges quite nicely from just the airports and their connections.\n",
    " - **Different cropping**: Try cropping the map to a particular area of the world. What do you have to consider when moving from a global to a regional level?\n",
    "    \n",
    "</div>"
   ]
  },
  {
   "cell_type": "markdown",
   "id": "2ad11aeb-d875-42c6-9684-c85dbc3ffbfe",
   "metadata": {},
   "source": [
    "<div style=\"background-color: #39f98f; padding: 10px; border-left: 5px solid #059445; margin-bottom: 10px;\">\n",
    "\n",
    "**Style files**\n",
    "\n",
    "Route layer: *flight_routes_style.qml*\n",
    "    \n",
    "Airport layer: *airports_style.qml*\n",
    "\n",
    "    \n",
    "</div>"
   ]
  },
  {
   "cell_type": "markdown",
   "id": "72e02e31-7a63-4711-aff9-fae4bad44db5",
   "metadata": {},
   "source": [
    "![Air routes example map](Figures/practical2_air_routes.jpeg)"
   ]
  },
  {
   "cell_type": "markdown",
   "id": "371d5f66-a888-4562-9216-aeecbbba871f",
   "metadata": {},
   "source": [
    "## Replicating the processing flow of this notebook\n",
    "*flight_routes_and_airports.model3* processing model automates the preprocessing steps of this tutorial. To run it successfully, you will need:\n",
    "- *flight_routes_style.qml*\n",
    "- *airports_style.qml*\n",
    "- *sources_and_destinations.gpkg*\n",
    "\n",
    "You can download this week's QGIS materials as a zipfile [here](QGIS-files/QGIS-files.zip)"
   ]
  },
  {
   "cell_type": "markdown",
   "id": "75dad612-5761-4593-96e1-ebfea1354b38",
   "metadata": {},
   "source": [
    "Set the appropriate source and destination layers and the style files. The other parameters should be correct by default"
   ]
  },
  {
   "cell_type": "markdown",
   "id": "e3da6417-4a75-4fa9-beaa-a2c1c5dd48a9",
   "metadata": {},
   "source": [
    "![Practical 2 flights model](Figures/practical2_flights_model.png)"
   ]
  }
 ],
 "metadata": {
  "kernelspec": {
   "display_name": "Python 3 (ipykernel)",
   "language": "python",
   "name": "python3"
  },
  "language_info": {
   "codemirror_mode": {
    "name": "ipython",
    "version": 3
   },
   "file_extension": ".py",
   "mimetype": "text/x-python",
   "name": "python",
   "nbconvert_exporter": "python",
   "pygments_lexer": "ipython3",
   "version": "3.9.21"
  }
 },
 "nbformat": 4,
 "nbformat_minor": 5
}
