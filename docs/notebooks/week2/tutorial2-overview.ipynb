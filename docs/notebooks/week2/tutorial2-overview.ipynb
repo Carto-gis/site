{
 "cells": [
  {
   "cell_type": "markdown",
   "id": "37653921-5015-42a2-a675-03552f153a3e",
   "metadata": {},
   "source": [
    "# Tutorial 2: overview\n",
    "\n",
    "This week we will create two static maps. A **global map** of world flight routes and a local map of how environmental perception in Helsinki based on public participation GIS (PPGIS) data.  "
   ]
  },
  {
   "cell_type": "markdown",
   "id": "062d30fe-8ec9-4757-b978-67d92e92e57e",
   "metadata": {},
   "source": [
    "## Video recording\n",
    "\n",
    "**Python tutorial**\n",
    "\n",
    "<iframe width=\"560\" height=\"315\" src=\"https://www.youtube.com/embed/9BXG851W5q8?si=7VOeCZyX__tGBak_\" title=\"YouTube video player\" frameborder=\"0\" allow=\"accelerometer; autoplay; clipboard-write; encrypted-media; gyroscope; picture-in-picture; web-share\" referrerpolicy=\"strict-origin-when-cross-origin\" allowfullscreen></iframe>\n",
    "\n",
    "**QGIS tutorial**\n",
    "\n",
    "<iframe width=\"560\" height=\"315\" src=\"https://www.youtube.com/embed/O1NpLIqEQ6Q?si=j04s7vCRZDSU-XyX\" title=\"YouTube video player\" frameborder=\"0\" allow=\"accelerometer; autoplay; clipboard-write; encrypted-media; gyroscope; picture-in-picture; web-share\" referrerpolicy=\"strict-origin-when-cross-origin\" allowfullscreen></iframe>"
   ]
  },
  {
   "metadata": {},
   "cell_type": "code",
   "outputs": [],
   "execution_count": null,
   "source": [],
   "id": "b0e8c4bab50d988d"
  }
 ],
 "metadata": {
  "kernelspec": {
   "display_name": "Python 3 (ipykernel)",
   "language": "python",
   "name": "python3"
  },
  "language_info": {
   "codemirror_mode": {
    "name": "ipython",
    "version": 3
   },
   "file_extension": ".py",
   "mimetype": "text/x-python",
   "name": "python",
   "nbconvert_exporter": "python",
   "pygments_lexer": "ipython3",
   "version": "3.11.7"
  }
 },
 "nbformat": 4,
 "nbformat_minor": 5
}
