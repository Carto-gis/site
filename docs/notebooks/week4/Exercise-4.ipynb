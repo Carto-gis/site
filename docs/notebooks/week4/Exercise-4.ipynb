{
 "cells": [
  {
   "cell_type": "markdown",
   "id": "a0e981f2-01da-4bcf-b872-69add18dfe8f",
   "metadata": {},
   "source": [
    "# Exercise 4: Mapping flying squirrels\n",
    "\n",
    "<img src=\"Figures/AI_FS.jpg\" alt=\"AI generated image\" width=\"500\"/>\n",
    "\n",
    "*AI generated Image*\n",
    "\n",
    "**Data:** This week we are going to work with a dataset of flying squirrels in Uusimaa region in Finland. You can download the data from [here](exercise4-data/HBF_85817_geo_u.gpkg) or from its [original source](https://www.metsa.fi/en/project/flying-squirrel-life/flying-squirrel-information/) (with description of data). Create an interactive map of your choice to explore the data.\n",
    "\n",
    "**Part 1: Weekly reflection** (2 points)\n",
    "\n",
    "Write a short reflection of what you learned from this week's lecture and discussion. \n",
    "\n",
    "**Part 2: Non-carto visualization** (3 points)\n",
    "\n",
    "Create a non-cartographic visualization to explore some aspect of the data. This can be a seprate visualization or integrated with your map in part3.\n",
    "\n",
    "**Part 3: Interactive map** (5 points)\n",
    "\n",
    "Make an interactive map to visualize the data. You can choose which aspect of the data you'd like to visualize. "
   ]
  },
  {
   "cell_type": "code",
   "execution_count": null,
   "id": "c060f27c-eff4-4a3b-85fe-c7be7ecbb320",
   "metadata": {},
   "outputs": [],
   "source": []
  }
 ],
 "metadata": {
  "kernelspec": {
   "display_name": "Python 3 (ipykernel)",
   "language": "python",
   "name": "python3"
  },
  "language_info": {
   "codemirror_mode": {
    "name": "ipython",
    "version": 3
   },
   "file_extension": ".py",
   "mimetype": "text/x-python",
   "name": "python",
   "nbconvert_exporter": "python",
   "pygments_lexer": "ipython3",
   "version": "3.11.7"
  }
 },
 "nbformat": 4,
 "nbformat_minor": 5
}
