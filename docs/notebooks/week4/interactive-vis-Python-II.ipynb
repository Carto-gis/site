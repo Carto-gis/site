{
 "cells": [
  {
   "cell_type": "markdown",
   "id": "164f808c-8e8d-4d23-8921-702dcc45534c",
   "metadata": {
    "editable": true,
    "slideshow": {
     "slide_type": ""
    },
    "tags": []
   },
   "source": [
    "# Interactive visualizations II"
   ]
  },
  {
   "cell_type": "markdown",
   "id": "78f27da5-b897-4482-9d00-0a28f45594c9",
   "metadata": {
    "editable": true,
    "slideshow": {
     "slide_type": ""
    },
    "tags": []
   },
   "source": [
    "### Combining cartographic and non-cartographic visualizations\n",
    "\n",
    "Maps effectively show us where things happen, like where fire incidents occur. Charts, like bar graphs, show us for example how things change over time, such as fire incidents increasing or decreasing. What if we bring these two together? \n",
    "\n",
    "With Folium, a Python library that lets us create interactive maps, we can add a special feature: pop-ups. Imagine clicking on a part of the map and seeing a chart pop up that shows how many incidents happened there over the years. \n",
    "\n",
    "Here’s our plan:\n",
    "1. For each region on our map, we'll create a bar chart showing incidents over time.\n",
    "2. We'll turn these charts into pictures.\n",
    "3. Then, we'll add these pictures to our map. When you click on a region, you’ll see its chart.\n",
    "\n",
    "This way, our map doesn’t just tell us where things happen but also shows us how things change over time in each place, making our map more interactive and full of information."
   ]
  },
  {
   "cell_type": "code",
   "execution_count": null,
   "id": "fad3f212-7a8d-4ac4-9202-17d70b321671",
   "metadata": {
    "scrolled": true
   },
   "outputs": [],
   "source": [
    "import geopandas as gpd\n",
    "import pandas as pd\n",
    "import folium\n",
    "from folium import Popup\n",
    "import matplotlib.pyplot as plt\n",
    "import io\n",
    "import base64\n",
    "\n",
    "# Load geographic data\n",
    "shapefile_path = 'data/maakunnat_2024_milj.shp'\n",
    "gdf = gpd.read_file(shapefile_path)\n",
    "gdf = gdf.to_crs(\"EPSG:4326\")\n",
    "\n",
    "# Load incident data\n",
    "csv_file_path = 'data/aggregate_year.csv'\n",
    "df_incidents = pd.read_csv(csv_file_path)\n",
    "\n",
    "# Create interactive map\n",
    "map = folium.Map(location=[64.5, 26], zoom_start=4)  # Adjust location and zoom as needed\n",
    "def plot_bar_chart(region):\n",
    "    \"\"\"\n",
    "    Generates a base64 encoded image for the bar chart of incidents in a region.\n",
    "    \"\"\"\n",
    "    data = df_incidents[df_incidents['NAMEFIN'] == region]\n",
    "    fig, ax = plt.subplots(figsize=(4, 2.6))\n",
    "    ax.bar(data['year'], data['incidents'], color='#add8e6')\n",
    "    ax.set_title(f\"Incidents in {region}\", fontsize=14)\n",
    "    ax.set_xlabel(\"Year\", fontsize=10)\n",
    "    ax.set_ylabel(\"Number of Incidents\", fontsize=10)\n",
    "    plt.tight_layout()\n",
    "    img = io.BytesIO()\n",
    "    plt.savefig(img, format='png')\n",
    "    plt.close()\n",
    "    img.seek(0)\n",
    "    base64_img = base64.b64encode(img.getvalue()).decode()\n",
    "    return f'<img src=\"data:image/png;base64,{base64_img}\">'\n",
    "\n",
    "# Adding regions to the map with popups and a solid light yellow color fill\n",
    "for _, row in gdf.iterrows():\n",
    "    region = row['NAMEFIN']  # Adjust field name as necessary\n",
    "    popup_content = plot_bar_chart(region)\n",
    "    popup = Popup(popup_content, max_width=400, max_height='200px')\n",
    "    style_function = lambda x: {'fillColor': '#ffffcc', 'color': 'black', 'weight': 1, 'fillOpacity': 0.7}\n",
    "    folium.GeoJson(\n",
    "        row['geometry'],\n",
    "        tooltip=row['NAMEFIN'],\n",
    "        style_function=style_function\n",
    "    ).add_child(popup).add_to(map)\n",
    "\n",
    "\n",
    "# Display the map\n",
    "map"
   ]
  },
  {
   "cell_type": "markdown",
   "id": "435a08c4-f926-48cc-bfd4-d72721bfb4b5",
   "metadata": {},
   "source": [
    "## Interactive Heatmap\n",
    "\n",
    "A heatmap is a powerful tool for visualizing the concentration of events across a geographic area. Unlike traditional maps that use symbols (such as dots) to represent single occurrences, heatmaps use color intensity to show where events cluster together. This makes it easy to spot which areas have higher or lower activity, such as fire incidents in our case.\n",
    "\n",
    "**Why an interactive Heatmap:**h\n",
    "\n",
    "- **Visual Clarity**: Heatmaps make it easier to understand dense clusters of events, providing a clear picture of fire hotspots.\n",
    "- **Immediate Insights**: By quickly showing where the highest concentrations of fires are, decision-makers can prioritize resources and responses more effectively.\n",
    "- **Interactive Exploration**: Users can zoom in and out, exploring different areas of interest in detail.\n",
    "\n",
    "Here's what we're doing with the next code cell:\n",
    "\n",
    "1. Load Data: We start by loading our fire data again for a fresh start.\n",
    "\n",
    "2. Set Up the Map: We initialize a base map using **Folium**, centering it around the average latitude and longitude of our fire data. This ensures the map is focused on the relevant area where the fires occurred.\n",
    "\n",
    "3. Prepare Heatmap Data: We create a list of latitude and longitude pairs from our fire data. If we had a measure of each fire's intensity, we could use that to weight the heatmap. However, without it, we're simply visualizing the locations of the fires.\n",
    "\n",
    "4. Add the Heatmap Layer: Using Folium's `HeatMap` plugin, we add our list of locations to the map as a heatmap layer. Areas with more fires will appear \"hotter,\" meaning they'll be colored more intensely.\n",
    "\n",
    "5. Save and Display: Optionally, we save the map as an HTML file for easy sharing and display it directly in our environment."
   ]
  },
  {
   "cell_type": "code",
   "execution_count": null,
   "id": "f356bd4d-93e1-41b6-b363-6462aa54ccb2",
   "metadata": {
    "editable": true,
    "slideshow": {
     "slide_type": ""
    },
    "tags": []
   },
   "outputs": [],
   "source": [
    "import pandas as pd\n",
    "import folium\n",
    "from folium.plugins import HeatMap\n",
    "\n",
    "# Load your data\n",
    "data_path = 'data/fire_data_for_map.csv'  # Make sure to update this path\n",
    "fire_data = pd.read_csv(data_path)\n",
    "\n",
    "# Initialize a base map\n",
    "map = folium.Map(location=[fire_data['LATITUDE'].mean(), fire_data['LONGITUDE'].mean()], zoom_start=5)\n",
    "\n",
    "# If you have an intensity measure (e.g., 'FIRE_INTENSITY'), use it; otherwise, just use lat, lon\n",
    "heat_data = [[row['LATITUDE'], row['LONGITUDE']] for index, row in fire_data.iterrows()]\n",
    "\n",
    "# Add a heatmap layer\n",
    "HeatMap(heat_data).add_to(map)\n",
    "\n",
    "# Save the map to an HTML file (optional)\n",
    "map.save('html/wildfire_heatmap.html')\n",
    "\n",
    "# Display the map\n",
    "map\n"
   ]
  },
  {
   "cell_type": "markdown",
   "id": "6e57bcad-4107-4dfe-98a3-20d859fec80a",
   "metadata": {
    "editable": true,
    "slideshow": {
     "slide_type": ""
    },
    "tags": []
   },
   "source": [
    "This heatmap approach offers a dynamic way to visualize and interpret patterns in fire occurrences, enhancing our understanding of fire risks and distribution across the region."
   ]
  }
 ],
 "metadata": {
  "kernelspec": {
   "display_name": "Python 3 (ipykernel)",
   "language": "python",
   "name": "python3"
  },
  "language_info": {
   "codemirror_mode": {
    "name": "ipython",
    "version": 3
   },
   "file_extension": ".py",
   "mimetype": "text/x-python",
   "name": "python",
   "nbconvert_exporter": "python",
   "pygments_lexer": "ipython3",
   "version": "3.11.7"
  }
 },
 "nbformat": 4,
 "nbformat_minor": 5
}
