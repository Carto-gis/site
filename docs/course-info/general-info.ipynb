{
 "cells": [
  {
   "cell_type": "markdown",
   "id": "5c63af16-35dc-4095-9cd7-19edc54bb532",
   "metadata": {},
   "source": [
    "# General information\n",
    "\n",
    "<div style=\"background-color: #f0f4f8; border-left: 5px solid #0078D4; padding: 20px; margin: 20px 0;\">\n",
    "    <strong>Contact teaching at the University of Helsinki</strong>\n",
    "    <p>Please note that access to Discord and to the CSC Noppe is limited to students at Finnish universities. Other course materials on this website, are available to anyone interested.</p>\n",
    "</div>\n",
    "\n",
    "\n",
    "## Course meetings in intensive teaching period (May 2025)\n",
    "\n",
    "- **Lectures** on Tuesdays 9.15–11.45 (Physicum, E207)\n",
    "- **Tutorials** Released as recordings on course's website every Tuesday\n",
    "- **Help sessions** on Wednesdays (Physicum, sali A113+A114 (GIS)):\n",
    "    - 9:15 –11:45  \n",
    "    - 13:15 –15:45 \n",
    "\n",
    "\n",
    "## Instructors\n",
    "\n",
    "- Lecturer: \n",
    "    - Kamyar Hasanzadeh\n",
    "\n",
    "- Tutorials:\n",
    "    - Kamyar Hasanzadeh\n",
    "    - Tatu Leppämäki\n",
    "- Exercises:\n",
    "    - Maija Havusela\n",
    "\n",
    "Email: firstname.lastname@helsinki.fi\n",
    "\n",
    "\n",
    "## Course web pages:\n",
    "- Homepage: [cartogis.readthedocs.io](https://cartogis.readthedocs.io/en/latest/)\n",
    "- CSC Noppe: https://noppe.csc.fi/\n",
    "    - Join code for CSC Noppe: `car-qxd1a6rx`\n",
    "- GitHub:\n",
    "    - site: https://github.com/Carto-gis/site\n",
    "    - tutorials: https://github.com/Carto-gis/tutorials \n",
    "- Discord: [CartoGIS-2025](https://discord.com/channels/1367057378003910707/1367057378003910716)\n",
    "\n",
    "Other useful web pages:\n",
    "- [AutoGIS course](https://autogis-site.readthedocs.io/en/latest/)\n",
    "- [Geo-python course](https://geo-python-site.readthedocs.io/en/latest/)"
   ]
  },
  {
   "cell_type": "code",
   "execution_count": null,
   "id": "4cf95d24-6d63-4460-b490-cd50743a9f6b",
   "metadata": {},
   "outputs": [],
   "source": []
  }
 ],
 "metadata": {
  "kernelspec": {
   "display_name": "Python 3 (ipykernel)",
   "language": "python",
   "name": "python3"
  },
  "language_info": {
   "codemirror_mode": {
    "name": "ipython",
    "version": 3
   },
   "file_extension": ".py",
   "mimetype": "text/x-python",
   "name": "python",
   "nbconvert_exporter": "python",
   "pygments_lexer": "ipython3",
   "version": "3.9.19"
  }
 },
 "nbformat": 4,
 "nbformat_minor": 5
}
